{
  "nbformat": 4,
  "nbformat_minor": 0,
  "metadata": {
    "colab": {
      "name": "tf_exp_3.ipynb",
      "provenance": [],
      "authorship_tag": "ABX9TyNJ6ntg4c4dsWPZcvc1w83X",
      "include_colab_link": true
    },
    "kernelspec": {
      "name": "python3",
      "display_name": "Python 3"
    }
  },
  "cells": [
    {
      "cell_type": "markdown",
      "metadata": {
        "id": "view-in-github",
        "colab_type": "text"
      },
      "source": [
        "<a href=\"https://colab.research.google.com/github/BarryLiu-97/Tensorflow-Tutorial/blob/master/basic/tf_exp_3.ipynb\" target=\"_parent\"><img src=\"https://colab.research.google.com/assets/colab-badge.svg\" alt=\"Open In Colab\"/></a>"
      ]
    },
    {
      "cell_type": "markdown",
      "metadata": {
        "id": "DgeTdlhVH8vZ",
        "colab_type": "text"
      },
      "source": [
        "# 机器学习中的一些名词\n",
        "数据集 data set = 样本集 sample set  \n",
        "样本 sample  \n",
        "属性 attribute = 特征 feature  \n",
        "标记/标签 label  \n",
        "模型/假设 hypothesis = 学习器 leaner (即估计函数)  \n",
        "真相/真实 ground truth  \n",
        "__解析解__：根据严格推导和计算得到，为方程的精确解，可以在任意精度下满足方程  \n",
        "__数值解__：通过近似计算得到的解，能够在给定的精度下满足方程\n",
        "__方向导数__：函数沿着某一个方向的变化率  \n",
        "梯度：模为方向导数的最大值，方向为最大方向导数的方向  \n",
        "函数在某个点的梯度就是函数在这个点沿着这个方向的变化率最大  \n",
        "梯度下降法就是沿着最陡，即该方向变化率最大的方向移动  \n",
        "机器学习中只要能够把损失函数描述成凸函数，就一定可以采用梯度下降法，以最快的速度更新权值向量w,找到使损失函数达到最小值点的位置。  \n",
        "超参数会影响模型的训练。  \n",
        " \n",
        "\n"
      ]
    },
    {
      "cell_type": "markdown",
      "metadata": {
        "id": "kHvQdXRDMqFL",
        "colab_type": "text"
      },
      "source": [
        "# 可训练变量Variable\n",
        "- __tf.Variable__\n",
        " - 对Tensor对象进一步封装\n",
        " - 在模型训练过程中自动记录梯度信息，由算法自动优化其取值  \n",
        " - 可以被训练的变量  \n",
        " - 在机器学习中作为模型参数  \n",
        "tf.Variable(initial, value, dtype)\n"
      ]
    },
    {
      "cell_type": "code",
      "metadata": {
        "id": "BuJcnvldHviE",
        "colab_type": "code",
        "colab": {}
      },
      "source": [
        "import tensorflow as tf\n",
        "import numpy as np"
      ],
      "execution_count": 0,
      "outputs": []
    },
    {
      "cell_type": "code",
      "metadata": {
        "id": "tYLcAvu6H_7R",
        "colab_type": "code",
        "colab": {
          "base_uri": "https://localhost:8080/",
          "height": 34
        },
        "outputId": "b72b2ca8-0245-457e-da53-7f47a4157c7f"
      },
      "source": [
        "tf.Variable(3)"
      ],
      "execution_count": 3,
      "outputs": [
        {
          "output_type": "execute_result",
          "data": {
            "text/plain": [
              "<tf.Variable 'Variable:0' shape=() dtype=int32, numpy=3>"
            ]
          },
          "metadata": {
            "tags": []
          },
          "execution_count": 3
        }
      ]
    },
    {
      "cell_type": "code",
      "metadata": {
        "id": "65b7z1I3YtNr",
        "colab_type": "code",
        "colab": {
          "base_uri": "https://localhost:8080/",
          "height": 34
        },
        "outputId": "1f5a75cc-196f-448e-f49d-6d7c38048938"
      },
      "source": [
        "tf.Variable(3.)"
      ],
      "execution_count": 7,
      "outputs": [
        {
          "output_type": "execute_result",
          "data": {
            "text/plain": [
              "<tf.Variable 'Variable:0' shape=() dtype=float32, numpy=3.0>"
            ]
          },
          "metadata": {
            "tags": []
          },
          "execution_count": 7
        }
      ]
    },
    {
      "cell_type": "code",
      "metadata": {
        "id": "PpfkBruMXISs",
        "colab_type": "code",
        "colab": {
          "base_uri": "https://localhost:8080/",
          "height": 34
        },
        "outputId": "47efb68c-c274-4c75-f8ba-f3ef119ae8fb"
      },
      "source": [
        "tf.Variable([1,2])"
      ],
      "execution_count": 5,
      "outputs": [
        {
          "output_type": "execute_result",
          "data": {
            "text/plain": [
              "<tf.Variable 'Variable:0' shape=(2,) dtype=int32, numpy=array([1, 2], dtype=int32)>"
            ]
          },
          "metadata": {
            "tags": []
          },
          "execution_count": 5
        }
      ]
    },
    {
      "cell_type": "code",
      "metadata": {
        "id": "Bqi1cDI0XMO5",
        "colab_type": "code",
        "colab": {
          "base_uri": "https://localhost:8080/",
          "height": 34
        },
        "outputId": "99677e7e-3e39-4e54-e132-7dfb6e650b20"
      },
      "source": [
        "tf.Variable(np.array([1,2]))"
      ],
      "execution_count": 6,
      "outputs": [
        {
          "output_type": "execute_result",
          "data": {
            "text/plain": [
              "<tf.Variable 'Variable:0' shape=(2,) dtype=int64, numpy=array([1, 2])>"
            ]
          },
          "metadata": {
            "tags": []
          },
          "execution_count": 6
        }
      ]
    },
    {
      "cell_type": "code",
      "metadata": {
        "id": "R9tF9XVDYzF-",
        "colab_type": "code",
        "colab": {
          "base_uri": "https://localhost:8080/",
          "height": 67
        },
        "outputId": "c4ca5e4c-fc7a-41e2-fa6f-945df098e91c"
      },
      "source": [
        "tf.Variable(tf.constant([[1,2],[3,4]]))"
      ],
      "execution_count": 9,
      "outputs": [
        {
          "output_type": "execute_result",
          "data": {
            "text/plain": [
              "<tf.Variable 'Variable:0' shape=(2, 2) dtype=int32, numpy=\n",
              "array([[1, 2],\n",
              "       [3, 4]], dtype=int32)>"
            ]
          },
          "metadata": {
            "tags": []
          },
          "execution_count": 9
        }
      ]
    },
    {
      "cell_type": "code",
      "metadata": {
        "id": "hE8Q7eN0Y-ei",
        "colab_type": "code",
        "colab": {
          "base_uri": "https://localhost:8080/",
          "height": 67
        },
        "outputId": "4ba3e881-1eee-4b7a-b497-990390906d6c"
      },
      "source": [
        "tf.Variable(tf.zeros([2,3]))"
      ],
      "execution_count": 10,
      "outputs": [
        {
          "output_type": "execute_result",
          "data": {
            "text/plain": [
              "<tf.Variable 'Variable:0' shape=(2, 3) dtype=float32, numpy=\n",
              "array([[0., 0., 0.],\n",
              "       [0., 0., 0.]], dtype=float32)>"
            ]
          },
          "metadata": {
            "tags": []
          },
          "execution_count": 10
        }
      ]
    },
    {
      "cell_type": "code",
      "metadata": {
        "id": "7G7mhNB4ZD1V",
        "colab_type": "code",
        "colab": {
          "base_uri": "https://localhost:8080/",
          "height": 67
        },
        "outputId": "7a6f441c-be63-40d0-bed9-a6c4a4602edf"
      },
      "source": [
        "tf.Variable(tf.random.normal([2,2]))"
      ],
      "execution_count": 11,
      "outputs": [
        {
          "output_type": "execute_result",
          "data": {
            "text/plain": [
              "<tf.Variable 'Variable:0' shape=(2, 2) dtype=float32, numpy=\n",
              "array([[ 0.3632095 ,  0.08037858],\n",
              "       [-0.85741067,  0.83306426]], dtype=float32)>"
            ]
          },
          "metadata": {
            "tags": []
          },
          "execution_count": 11
        }
      ]
    },
    {
      "cell_type": "code",
      "metadata": {
        "id": "HWauNmHkZMko",
        "colab_type": "code",
        "colab": {
          "base_uri": "https://localhost:8080/",
          "height": 34
        },
        "outputId": "772bbe0a-a8fd-4232-e8fc-6884a77a1693"
      },
      "source": [
        "x = tf.Variable((1,2))\n",
        "x"
      ],
      "execution_count": 15,
      "outputs": [
        {
          "output_type": "execute_result",
          "data": {
            "text/plain": [
              "<tf.Variable 'Variable:0' shape=(2,) dtype=int32, numpy=array([1, 2], dtype=int32)>"
            ]
          },
          "metadata": {
            "tags": []
          },
          "execution_count": 15
        }
      ]
    },
    {
      "cell_type": "code",
      "metadata": {
        "id": "9d-qlluLZt-v",
        "colab_type": "code",
        "colab": {
          "base_uri": "https://localhost:8080/",
          "height": 87
        },
        "outputId": "1ea71227-24fd-4efa-b291-a59fe54a3468"
      },
      "source": [
        "print(x.shape,'\\n',x.dtype,'\\n',x.numpy)"
      ],
      "execution_count": 16,
      "outputs": [
        {
          "output_type": "stream",
          "text": [
            "(2,) \n",
            " <dtype: 'int32'> \n",
            " <bound method BaseResourceVariable.numpy of <tf.Variable 'Variable:0' shape=(2,) dtype=int32, numpy=array([1, 2], dtype=int32)>>\n"
          ],
          "name": "stdout"
        }
      ]
    },
    {
      "cell_type": "code",
      "metadata": {
        "id": "pdo812rnZ481",
        "colab_type": "code",
        "colab": {
          "base_uri": "https://localhost:8080/",
          "height": 34
        },
        "outputId": "ea6559d8-10f1-46fc-9fba-6d877c8c52be"
      },
      "source": [
        "x.trainable   #判断该数据是否可训练"
      ],
      "execution_count": 17,
      "outputs": [
        {
          "output_type": "execute_result",
          "data": {
            "text/plain": [
              "True"
            ]
          },
          "metadata": {
            "tags": []
          },
          "execution_count": 17
        }
      ]
    },
    {
      "cell_type": "code",
      "metadata": {
        "id": "EkUID8ByZ9qC",
        "colab_type": "code",
        "colab": {
          "base_uri": "https://localhost:8080/",
          "height": 34
        },
        "outputId": "06d837ae-c481-46a2-e438-069f81ce4ce7"
      },
      "source": [
        "type(x)  "
      ],
      "execution_count": 18,
      "outputs": [
        {
          "output_type": "execute_result",
          "data": {
            "text/plain": [
              "tensorflow.python.ops.resource_variable_ops.ResourceVariable"
            ]
          },
          "metadata": {
            "tags": []
          },
          "execution_count": 18
        }
      ]
    },
    {
      "cell_type": "markdown",
      "metadata": {
        "id": "QceiTkMWaFie",
        "colab_type": "text"
      },
      "source": [
        "__可训练变量赋值__  \n",
        "对象名.assign()  \n",
        "对象名.assign_add() 加法赋值  \n",
        "对象名.assign_sub() 减法赋值  "
      ]
    },
    {
      "cell_type": "code",
      "metadata": {
        "id": "pARwBSuyaFD7",
        "colab_type": "code",
        "colab": {}
      },
      "source": [
        "x = tf.Variable([1,2])\n",
        "x"
      ],
      "execution_count": 0,
      "outputs": []
    },
    {
      "cell_type": "code",
      "metadata": {
        "id": "XCDJLfFBarB2",
        "colab_type": "code",
        "colab": {
          "base_uri": "https://localhost:8080/",
          "height": 34
        },
        "outputId": "3098683a-e53c-4739-c4b1-78c44ac3772a"
      },
      "source": [
        "x.assign([3,4])"
      ],
      "execution_count": 24,
      "outputs": [
        {
          "output_type": "execute_result",
          "data": {
            "text/plain": [
              "<tf.Variable 'UnreadVariable' shape=(2,) dtype=int32, numpy=array([3, 4], dtype=int32)>"
            ]
          },
          "metadata": {
            "tags": []
          },
          "execution_count": 24
        }
      ]
    },
    {
      "cell_type": "code",
      "metadata": {
        "id": "QHhGqnmyavVs",
        "colab_type": "code",
        "colab": {
          "base_uri": "https://localhost:8080/",
          "height": 34
        },
        "outputId": "287415b5-93e8-428a-c273-cc1f8829cca0"
      },
      "source": [
        "x.assign_add([1,1])"
      ],
      "execution_count": 21,
      "outputs": [
        {
          "output_type": "execute_result",
          "data": {
            "text/plain": [
              "<tf.Variable 'UnreadVariable' shape=(2,) dtype=int32, numpy=array([4, 5], dtype=int32)>"
            ]
          },
          "metadata": {
            "tags": []
          },
          "execution_count": 21
        }
      ]
    },
    {
      "cell_type": "code",
      "metadata": {
        "id": "iqK1wRNAbGFZ",
        "colab_type": "code",
        "colab": {
          "base_uri": "https://localhost:8080/",
          "height": 34
        },
        "outputId": "14ab4927-9dd1-404c-80bb-14e26806511d"
      },
      "source": [
        "x.assign_sub([2,2])"
      ],
      "execution_count": 26,
      "outputs": [
        {
          "output_type": "execute_result",
          "data": {
            "text/plain": [
              "<tf.Variable 'UnreadVariable' shape=(2,) dtype=int32, numpy=array([1, 2], dtype=int32)>"
            ]
          },
          "metadata": {
            "tags": []
          },
          "execution_count": 26
        }
      ]
    },
    {
      "cell_type": "markdown",
      "metadata": {
        "id": "LRDbXBHPbaSi",
        "colab_type": "text"
      },
      "source": [
        "Tensor对象本身没有assign属性，所以使用过程中要注意对象类型  \n",
        "可使用isinstance()函数进行判断"
      ]
    },
    {
      "cell_type": "code",
      "metadata": {
        "id": "9NnQcGBtbo6v",
        "colab_type": "code",
        "colab": {
          "base_uri": "https://localhost:8080/",
          "height": 50
        },
        "outputId": "c8e37ef8-06ff-4a4c-e67c-f9c643d7acb5"
      },
      "source": [
        "a = tf.range(5)\n",
        "x = tf.Variable(a)\n",
        "print(isinstance(x,tf.Tensor),'\\n',isinstance(x,tf.Variable))"
      ],
      "execution_count": 28,
      "outputs": [
        {
          "output_type": "stream",
          "text": [
            "False \n",
            " True\n"
          ],
          "name": "stdout"
        }
      ]
    },
    {
      "cell_type": "code",
      "metadata": {
        "id": "_dsZodTMcA4a",
        "colab_type": "code",
        "colab": {
          "base_uri": "https://localhost:8080/",
          "height": 50
        },
        "outputId": "d25dff2f-2338-486b-ee67-4ca3d55b341b"
      },
      "source": [
        "print(isinstance(a,tf.Tensor),'\\n',isinstance(a,tf.Variable))"
      ],
      "execution_count": 29,
      "outputs": [
        {
          "output_type": "stream",
          "text": [
            "True \n",
            " False\n"
          ],
          "name": "stdout"
        }
      ]
    }
  ]
}