{
  "nbformat": 4,
  "nbformat_minor": 0,
  "metadata": {
    "colab": {
      "name": "tf_exp_7.ipynb",
      "provenance": [],
      "authorship_tag": "ABX9TyOsR9K97dJKTV1Kp/Xa9ntn",
      "include_colab_link": true
    },
    "kernelspec": {
      "name": "python3",
      "display_name": "Python 3"
    }
  },
  "cells": [
    {
      "cell_type": "markdown",
      "metadata": {
        "id": "view-in-github",
        "colab_type": "text"
      },
      "source": [
        "<a href=\"https://colab.research.google.com/github/BarryLiu-97/Tensorflow-Tutorial/blob/master/basic/tf_exp_7.ipynb\" target=\"_parent\"><img src=\"https://colab.research.google.com/assets/colab-badge.svg\" alt=\"Open In Colab\"/></a>"
      ]
    },
    {
      "cell_type": "markdown",
      "metadata": {
        "id": "F7cXabW5vja0",
        "colab_type": "text"
      },
      "source": [
        "# 逻辑回归"
      ]
    },
    {
      "cell_type": "code",
      "metadata": {
        "id": "32gdgy3Hk9FK",
        "colab_type": "code",
        "colab": {}
      },
      "source": [
        "import tensorflow as tf\n",
        "import numpy as np\n",
        "import matplotlib.pyplot as plt"
      ],
      "execution_count": 0,
      "outputs": []
    },
    {
      "cell_type": "code",
      "metadata": {
        "id": "93a2s04qvmkp",
        "colab_type": "code",
        "colab": {}
      },
      "source": [
        "x = np.array([1.,2.,3.,4.])\n",
        "\n",
        "w = tf.Variable(1.)\n",
        "b = tf.Variable(1.)"
      ],
      "execution_count": 0,
      "outputs": []
    },
    {
      "cell_type": "code",
      "metadata": {
        "id": "123yYFnsv8Xe",
        "colab_type": "code",
        "colab": {
          "base_uri": "https://localhost:8080/",
          "height": 34
        },
        "outputId": "f20e2368-8f55-41f8-cbf3-9a0b9470c1ae"
      },
      "source": [
        "1/(1+tf.exp(-(w*x+b)))  #tf.exp参数必须是浮点数，否则会报错"
      ],
      "execution_count": 3,
      "outputs": [
        {
          "output_type": "execute_result",
          "data": {
            "text/plain": [
              "<tf.Tensor: shape=(4,), dtype=float32, numpy=array([0.880797  , 0.95257413, 0.98201376, 0.9933072 ], dtype=float32)>"
            ]
          },
          "metadata": {
            "tags": []
          },
          "execution_count": 3
        }
      ]
    },
    {
      "cell_type": "code",
      "metadata": {
        "id": "aeHgZ_vJwOPo",
        "colab_type": "code",
        "colab": {}
      },
      "source": [
        "y = np.array([0,0,1,1])      #样本标签\n",
        "pred = np.array([0.1, 0.2, 0.8, 0.49])  #预测概率"
      ],
      "execution_count": 0,
      "outputs": []
    },
    {
      "cell_type": "code",
      "metadata": {
        "id": "64UKp8qNwfyO",
        "colab_type": "code",
        "colab": {
          "base_uri": "https://localhost:8080/",
          "height": 34
        },
        "outputId": "81b028fd-4f92-420a-ded0-dcf16e588a34"
      },
      "source": [
        "1-y"
      ],
      "execution_count": 5,
      "outputs": [
        {
          "output_type": "execute_result",
          "data": {
            "text/plain": [
              "array([1, 1, 0, 0])"
            ]
          },
          "metadata": {
            "tags": []
          },
          "execution_count": 5
        }
      ]
    },
    {
      "cell_type": "code",
      "metadata": {
        "id": "XUpujttTwhkh",
        "colab_type": "code",
        "colab": {
          "base_uri": "https://localhost:8080/",
          "height": 34
        },
        "outputId": "8c931ee5-5b6d-4670-9978-bf09f248cfe3"
      },
      "source": [
        "1-pred"
      ],
      "execution_count": 6,
      "outputs": [
        {
          "output_type": "execute_result",
          "data": {
            "text/plain": [
              "array([0.9 , 0.8 , 0.2 , 0.51])"
            ]
          },
          "metadata": {
            "tags": []
          },
          "execution_count": 6
        }
      ]
    },
    {
      "cell_type": "markdown",
      "metadata": {
        "id": "N6zLJnNTw3of",
        "colab_type": "text"
      },
      "source": [
        "交叉熵损失"
      ]
    },
    {
      "cell_type": "code",
      "metadata": {
        "id": "rR6Km2mUwioU",
        "colab_type": "code",
        "colab": {
          "base_uri": "https://localhost:8080/",
          "height": 34
        },
        "outputId": "ad9ef472-3ab2-4d8b-f6c4-2706ab681215"
      },
      "source": [
        "-tf.reduce_sum(y*tf.math.log(pred)+(1-y)*tf.math.log(1-pred))"
      ],
      "execution_count": 7,
      "outputs": [
        {
          "output_type": "execute_result",
          "data": {
            "text/plain": [
              "<tf.Tensor: shape=(), dtype=float64, numpy=1.2649975061637104>"
            ]
          },
          "metadata": {
            "tags": []
          },
          "execution_count": 7
        }
      ]
    },
    {
      "cell_type": "markdown",
      "metadata": {
        "id": "itMLWxlbw7SR",
        "colab_type": "text"
      },
      "source": [
        "平均交叉熵损失"
      ]
    },
    {
      "cell_type": "code",
      "metadata": {
        "id": "o6hHNdbuwtLi",
        "colab_type": "code",
        "colab": {
          "base_uri": "https://localhost:8080/",
          "height": 34
        },
        "outputId": "f014a7ac-ef5f-4141-cbfd-c3eb52725619"
      },
      "source": [
        "-tf.reduce_mean(y*tf.math.log(pred)+(1-y)*tf.math.log(1-pred))"
      ],
      "execution_count": 8,
      "outputs": [
        {
          "output_type": "execute_result",
          "data": {
            "text/plain": [
              "<tf.Tensor: shape=(), dtype=float64, numpy=0.3162493765409276>"
            ]
          },
          "metadata": {
            "tags": []
          },
          "execution_count": 8
        }
      ]
    },
    {
      "cell_type": "code",
      "metadata": {
        "id": "WTTw0AXtw-gV",
        "colab_type": "code",
        "colab": {
          "base_uri": "https://localhost:8080/",
          "height": 34
        },
        "outputId": "ee1870b0-43e5-4c93-9d41-bbde86a46dd2"
      },
      "source": [
        "#将预测的概率转换为标签\n",
        "#若阈值为0.5，可以使用round函数\n",
        "tf.round(pred)"
      ],
      "execution_count": 9,
      "outputs": [
        {
          "output_type": "execute_result",
          "data": {
            "text/plain": [
              "<tf.Tensor: shape=(4,), dtype=float64, numpy=array([0., 0., 1., 0.])>"
            ]
          },
          "metadata": {
            "tags": []
          },
          "execution_count": 9
        }
      ]
    },
    {
      "cell_type": "code",
      "metadata": {
        "id": "7dczUvwQxSxq",
        "colab_type": "code",
        "colab": {
          "base_uri": "https://localhost:8080/",
          "height": 34
        },
        "outputId": "e52d876b-353f-4f9e-eca2-3d02fa7c38e3"
      },
      "source": [
        "tf.equal(tf.round(pred), y)  #使用equal函数实现预测值和标签值是否相同"
      ],
      "execution_count": 10,
      "outputs": [
        {
          "output_type": "execute_result",
          "data": {
            "text/plain": [
              "<tf.Tensor: shape=(4,), dtype=bool, numpy=array([ True,  True,  True, False])>"
            ]
          },
          "metadata": {
            "tags": []
          },
          "execution_count": 10
        }
      ]
    },
    {
      "cell_type": "code",
      "metadata": {
        "id": "qmUqchQQxg4t",
        "colab_type": "code",
        "colab": {
          "base_uri": "https://localhost:8080/",
          "height": 34
        },
        "outputId": "57fd7ca6-2480-4d1d-e256-3e7884af968c"
      },
      "source": [
        "tf.cast(tf.equal(tf.round(pred), y), tf.int8)  #将结果转换为整数"
      ],
      "execution_count": 11,
      "outputs": [
        {
          "output_type": "execute_result",
          "data": {
            "text/plain": [
              "<tf.Tensor: shape=(4,), dtype=int8, numpy=array([1, 1, 1, 0], dtype=int8)>"
            ]
          },
          "metadata": {
            "tags": []
          },
          "execution_count": 11
        }
      ]
    },
    {
      "cell_type": "code",
      "metadata": {
        "id": "2stZdf7vx2aa",
        "colab_type": "code",
        "colab": {
          "base_uri": "https://localhost:8080/",
          "height": 34
        },
        "outputId": "423785f7-8365-4396-c861-74332f1d8edb"
      },
      "source": [
        "tf.reduce_mean(tf.cast(tf.equal(tf.round(pred), y), tf.float32))  #通过求均值计算acc"
      ],
      "execution_count": 12,
      "outputs": [
        {
          "output_type": "execute_result",
          "data": {
            "text/plain": [
              "<tf.Tensor: shape=(), dtype=float32, numpy=0.75>"
            ]
          },
          "metadata": {
            "tags": []
          },
          "execution_count": 12
        }
      ]
    },
    {
      "cell_type": "code",
      "metadata": {
        "id": "jBKUI0xTyUFL",
        "colab_type": "code",
        "colab": {
          "base_uri": "https://localhost:8080/",
          "height": 34
        },
        "outputId": "989a320e-4edc-477f-8fea-8b593fb7c7c3"
      },
      "source": [
        "tf.round(0.5)  #输入为0.5时返回的是0"
      ],
      "execution_count": 13,
      "outputs": [
        {
          "output_type": "execute_result",
          "data": {
            "text/plain": [
              "<tf.Tensor: shape=(), dtype=float32, numpy=0.0>"
            ]
          },
          "metadata": {
            "tags": []
          },
          "execution_count": 13
        }
      ]
    },
    {
      "cell_type": "markdown",
      "metadata": {
        "id": "Ipi5LfgHyiiv",
        "colab_type": "text"
      },
      "source": [
        "## 若分类的阈值不是0.5\n",
        "__where(condition,a,b)__\n",
        "根据条件condition返回a或者b的值  \n",
        "condition:布尔型的张量或者数组 若condition中某个位置为真，则返回a，反之返回b  "
      ]
    },
    {
      "cell_type": "code",
      "metadata": {
        "id": "IQlKx2EMyfn9",
        "colab_type": "code",
        "colab": {
          "base_uri": "https://localhost:8080/",
          "height": 34
        },
        "outputId": "736b8ffb-dfd6-4b2d-f911-f2a1e4053244"
      },
      "source": [
        "tf.where(pred<0.4, 0, 1)"
      ],
      "execution_count": 14,
      "outputs": [
        {
          "output_type": "execute_result",
          "data": {
            "text/plain": [
              "<tf.Tensor: shape=(4,), dtype=int32, numpy=array([0, 0, 1, 1], dtype=int32)>"
            ]
          },
          "metadata": {
            "tags": []
          },
          "execution_count": 14
        }
      ]
    },
    {
      "cell_type": "code",
      "metadata": {
        "id": "UfRdzpAA1j5K",
        "colab_type": "code",
        "colab": {
          "base_uri": "https://localhost:8080/",
          "height": 34
        },
        "outputId": "77021567-5155-4676-aa7c-2e8a1e9ea650"
      },
      "source": [
        "a = np.array([1,2,3,4])\n",
        "b = np.array([10, 20, 30, 40])\n",
        "\n",
        "tf.where(pred<0.5, a, b)  #pred中某一元素小于0.5返回a中对应位置的元素，反之返回b中对应位置的元素\n",
        "#注意 a,b,pred的大小应该一致"
      ],
      "execution_count": 15,
      "outputs": [
        {
          "output_type": "execute_result",
          "data": {
            "text/plain": [
              "<tf.Tensor: shape=(4,), dtype=int64, numpy=array([ 1,  2, 30,  4])>"
            ]
          },
          "metadata": {
            "tags": []
          },
          "execution_count": 15
        }
      ]
    },
    {
      "cell_type": "code",
      "metadata": {
        "id": "Lfnw-YwX2Q6P",
        "colab_type": "code",
        "colab": {
          "base_uri": "https://localhost:8080/",
          "height": 84
        },
        "outputId": "3feb279d-0e53-4418-d940-01c39153b378"
      },
      "source": [
        "tf.where(pred<0.5)   #不设置a和b则是数组中符合条件的元素的索引，返回值以二维张量的形式给出"
      ],
      "execution_count": 16,
      "outputs": [
        {
          "output_type": "execute_result",
          "data": {
            "text/plain": [
              "<tf.Tensor: shape=(3, 1), dtype=int64, numpy=\n",
              "array([[0],\n",
              "       [1],\n",
              "       [3]])>"
            ]
          },
          "metadata": {
            "tags": []
          },
          "execution_count": 16
        }
      ]
    },
    {
      "cell_type": "code",
      "metadata": {
        "id": "25scqmti2gkd",
        "colab_type": "code",
        "colab": {
          "base_uri": "https://localhost:8080/",
          "height": 34
        },
        "outputId": "8a408a94-374e-4bae-a154-90540b72074d"
      },
      "source": [
        "tf.reduce_mean(tf.cast(tf.equal(tf.where(pred<0.1,0,1), y), tf.float32))"
      ],
      "execution_count": 17,
      "outputs": [
        {
          "output_type": "execute_result",
          "data": {
            "text/plain": [
              "<tf.Tensor: shape=(), dtype=float32, numpy=0.5>"
            ]
          },
          "metadata": {
            "tags": []
          },
          "execution_count": 17
        }
      ]
    },
    {
      "cell_type": "markdown",
      "metadata": {
        "id": "dKukNfo23BV9",
        "colab_type": "text"
      },
      "source": [
        "## 使用一元逻辑回归实现对商品房的分类"
      ]
    },
    {
      "cell_type": "code",
      "metadata": {
        "id": "9z1n5Cql3Ifp",
        "colab_type": "code",
        "colab": {
          "base_uri": "https://localhost:8080/",
          "height": 282
        },
        "outputId": "2f5c79a9-7970-4e17-dd04-7dfd9e4d3dd3"
      },
      "source": [
        "#房屋面积\n",
        "x = np.array([137.97, 104.50, 100.00, 126.32, 79.20, 99.00, 124.00, 114.00,\n",
        "        106.69, 140.05, 53.75, 46.91, 68.00, 63.02, 81.26, 86.21])\n",
        "#商品房类别标签\n",
        "y = np.array([1,1,0,1,0,1,1,0,0,1,0,0,0,0,0,0])\n",
        "\n",
        "plt.scatter(x,y)"
      ],
      "execution_count": 18,
      "outputs": [
        {
          "output_type": "execute_result",
          "data": {
            "text/plain": [
              "<matplotlib.collections.PathCollection at 0x7f41655fcd68>"
            ]
          },
          "metadata": {
            "tags": []
          },
          "execution_count": 18
        },
        {
          "output_type": "display_data",
          "data": {
            "image/png": "[encoded data removed]",
            "text/plain": [
              "<Figure size 432x288 with 1 Axes>"
            ]
          },
          "metadata": {
            "tags": [],
            "needs_background": "light"
          }
        }
      ]
    },
    {
      "cell_type": "code",
      "metadata": {
        "id": "mlexZgtb3-_2",
        "colab_type": "code",
        "colab": {
          "base_uri": "https://localhost:8080/",
          "height": 282
        },
        "outputId": "5fb68695-dd42-4ce9-b420-41e9d1c3c083"
      },
      "source": [
        "x_train = x - np.mean(x)   #因为sigmoid函数以0为中心，所以将数据进行中心化\n",
        "#相当于将数据平移但是相对位置不变\n",
        "y_train = y\n",
        "plt.scatter(x_train, y_train)"
      ],
      "execution_count": 19,
      "outputs": [
        {
          "output_type": "execute_result",
          "data": {
            "text/plain": [
              "<matplotlib.collections.PathCollection at 0x7f41628d3390>"
            ]
          },
          "metadata": {
            "tags": []
          },
          "execution_count": 19
        },
        {
          "output_type": "display_data",
          "data": {
            "image/png": "[encoded data removed]",
            "text/plain": [
              "<Figure size 432x288 with 1 Axes>"
            ]
          },
          "metadata": {
            "tags": [],
            "needs_background": "light"
          }
        }
      ]
    },
    {
      "cell_type": "code",
      "metadata": {
        "id": "GOjeTG1t_-6q",
        "colab_type": "code",
        "colab": {
          "base_uri": "https://localhost:8080/",
          "height": 118
        },
        "outputId": "536c1472-55cf-4cbb-aa7a-7a125bb0eaad"
      },
      "source": [
        "learn_rate = 0.005\n",
        "epoch = 5\n",
        "display_step = 1\n",
        "np.random.seed(6)\n",
        "w = tf.Variable(np.random.randn())\n",
        "b = tf.Variable(np.random.randn())\n",
        "\n",
        "cross_train = []  #训练集的交叉熵损失\n",
        "acc_train = []   #训练集的分类准确率\n",
        "\n",
        "for i in range(epoch+1):\n",
        "  with tf.GradientTape() as tape:\n",
        "    pred_train = 1/(1+tf.exp(-(w*x_train+b)))\n",
        "    Loss_train = -tf.reduce_mean(y_train*tf.math.log(pred_train)+(1-y_train)*tf.math.log(1-pred_train))\n",
        "    Accuracy_train = tf.reduce_mean(tf.cast(tf.equal(tf.where(pred_train<0.5,0,1),y_train),tf.float32))\n",
        "  \n",
        "  cross_train.append(Loss_train)\n",
        "  acc_train.append(Accuracy_train)\n",
        "\n",
        "  dL_dw, dL_db = tape.gradient(Loss_train, [w,b])\n",
        "\n",
        "  w.assign_sub(learn_rate*dL_dw)\n",
        "  b.assign_sub(learn_rate*dL_db)\n",
        "\n",
        "  if i % display_step == 0:\n",
        "    print('i:%i, Train Loss:%f, Acc:%f' % (i, Loss_train, Accuracy_train))"
      ],
      "execution_count": 53,
      "outputs": [
        {
          "output_type": "stream",
          "text": [
            "i:0, Train Loss:6.922358, Acc:0.187500\n",
            "i:1, Train Loss:4.641430, Acc:0.250000\n",
            "i:2, Train Loss:2.450142, Acc:0.187500\n",
            "i:3, Train Loss:0.848559, Acc:0.375000\n",
            "i:4, Train Loss:0.555562, Acc:0.687500\n",
            "i:5, Train Loss:0.527644, Acc:0.750000\n"
          ],
          "name": "stdout"
        }
      ]
    },
    {
      "cell_type": "markdown",
      "metadata": {
        "id": "XhdymecJKRT5",
        "colab_type": "text"
      },
      "source": [
        "本例中如果出现了Loss为nan的情况说明参数初始化不合理，交叉熵损失函数计算过程中出现llog0这个数，换个种子就可以了"
      ]
    },
    {
      "cell_type": "code",
      "metadata": {
        "id": "bzpvv3NqKd_R",
        "colab_type": "code",
        "colab": {
          "base_uri": "https://localhost:8080/",
          "height": 282
        },
        "outputId": "8dcbca90-a7b1-46ee-b1db-b299a2efeec2"
      },
      "source": [
        "np.random.seed(612)\n",
        "w = tf.Variable(np.random.randn())\n",
        "b = tf.Variable(np.random.randn())\n",
        "x_ = range(-80,80)\n",
        "y_ = 1/(1+tf.exp(-(w_*x_+b_)))\n",
        "plt.plot(x_,y_)"
      ],
      "execution_count": 92,
      "outputs": [
        {
          "output_type": "execute_result",
          "data": {
            "text/plain": [
              "[<matplotlib.lines.Line2D at 0x7f4162135b00>]"
            ]
          },
          "metadata": {
            "tags": []
          },
          "execution_count": 92
        },
        {
          "output_type": "display_data",
          "data": {
            "image/png": "[encoded data removed]",
            "text/plain": [
              "<Figure size 432x288 with 1 Axes>"
            ]
          },
          "metadata": {
            "tags": [],
            "needs_background": "light"
          }
        }
      ]
    },
    {
      "cell_type": "markdown",
      "metadata": {
        "id": "Ki2O8wFEMndY",
        "colab_type": "text"
      },
      "source": [
        "## 增加在训练过程中sigmoid函数的可视化输出"
      ]
    },
    {
      "cell_type": "code",
      "metadata": {
        "id": "ij1IMrm9LdW5",
        "colab_type": "code",
        "colab": {
          "base_uri": "https://localhost:8080/",
          "height": 366
        },
        "outputId": "2425f793-57b3-48ff-c46c-93b66cf0e94e"
      },
      "source": [
        "learn_rate = 0.005\n",
        "epoch = 5\n",
        "display_step = 1\n",
        "np.random.seed(612)\n",
        "w = tf.Variable(np.random.randn())\n",
        "b = tf.Variable(np.random.randn())\n",
        "\n",
        "plt.scatter(x_train, y_train)\n",
        "plt.plot(x_, y_, color='r')\n",
        "\n",
        "cross_train = []  #训练集的交叉熵损失\n",
        "acc_train = []   #训练集的分类准确率\n",
        "\n",
        "for i in range(epoch+1):\n",
        "  with tf.GradientTape() as tape:\n",
        "    pred_train = 1/(1+tf.exp(-(w*x_train+b)))\n",
        "    Loss_train = -tf.reduce_mean(y_train*tf.math.log(pred_train)+(1-y_train)*tf.math.log(1-pred_train))\n",
        "    Accuracy_train = tf.reduce_mean(tf.cast(tf.equal(tf.where(pred_train<0.5,0,1),y_train),tf.float32))\n",
        "  \n",
        "  cross_train.append(Loss_train)\n",
        "  acc_train.append(Accuracy_train)\n",
        "\n",
        "  dL_dw, dL_db = tape.gradient(Loss_train, [w,b])\n",
        "\n",
        "  w.assign_sub(learn_rate*dL_dw)\n",
        "  b.assign_sub(learn_rate*dL_db)\n",
        "\n",
        "  if i % display_step == 0:\n",
        "    print('i:%i, Train Loss:%f, Acc:%f' % (i, Loss_train, Accuracy_train))\n",
        "    y_ = 1/(1+tf.exp(-(w*x_+b)))\n",
        "    plt.plot(x_,y_)"
      ],
      "execution_count": 87,
      "outputs": [
        {
          "output_type": "stream",
          "text": [
            "i:0, Train Loss:0.852807, Acc:0.625000\n",
            "i:1, Train Loss:0.400259, Acc:0.875000\n",
            "i:2, Train Loss:0.341504, Acc:0.812500\n",
            "i:3, Train Loss:0.322571, Acc:0.812500\n",
            "i:4, Train Loss:0.313972, Acc:0.812500\n",
            "i:5, Train Loss:0.309411, Acc:0.812500\n"
          ],
          "name": "stdout"
        },
        {
          "output_type": "display_data",
          "data": {
            "image/png": "[encoded data removed]",
            "text/plain": [
              "<Figure size 432x288 with 1 Axes>"
            ]
          },
          "metadata": {
            "tags": [],
            "needs_background": "light"
          }
        }
      ]
    },
    {
      "cell_type": "markdown",
      "metadata": {
        "id": "SiXYYcU_NDp1",
        "colab_type": "text"
      },
      "source": [
        "### 对新的商品房数进行分类"
      ]
    },
    {
      "cell_type": "code",
      "metadata": {
        "id": "MUFcS0IhNMnQ",
        "colab_type": "code",
        "colab": {}
      },
      "source": [
        "x_test = [128.15, 45.00, 141.41, 106.27, 99.00, 53.84, 85.36, 70.00, 162.00, 114.60]"
      ],
      "execution_count": 0,
      "outputs": []
    },
    {
      "cell_type": "code",
      "metadata": {
        "id": "xO0V2LdjNY1k",
        "colab_type": "code",
        "colab": {
          "base_uri": "https://localhost:8080/",
          "height": 185
        },
        "outputId": "b0219942-570d-48dd-9986-0a2efd8bdee3"
      },
      "source": [
        "pred_test = 1/(1+tf.exp(-(w*(x_test-np.mean(x_test))+b)))\n",
        "y_test = tf.where(pred_test<0.5,0,1)\n",
        "for i in range(len(x_test)):\n",
        "  print(x_test[i],'\\t',pred_test[i].numpy(),'\\t',y_test[i].numpy())"
      ],
      "execution_count": 78,
      "outputs": [
        {
          "output_type": "stream",
          "text": [
            "128.15 \t 0.79816955 \t 1\n",
            "45.0 \t 0.0018889776 \t 0\n",
            "141.41 \t 0.9304747 \t 1\n",
            "106.27 \t 0.34598595 \t 0\n",
            "99.0 \t 0.21330348 \t 0\n",
            "53.84 \t 0.0042478372 \t 0\n",
            "85.36 \t 0.07181261 \t 0\n",
            "70.0 \t 0.018499197 \t 0\n",
            "162.0 \t 0.98887116 \t 1\n",
            "114.6 \t 0.5322354 \t 1\n"
          ],
          "name": "stdout"
        }
      ]
    },
    {
      "cell_type": "code",
      "metadata": {
        "id": "WNr0q2IDPJnT",
        "colab_type": "code",
        "colab": {
          "base_uri": "https://localhost:8080/",
          "height": 265
        },
        "outputId": "e3c2c9f6-e6ca-49d9-fe51-630b9f2ed4ac"
      },
      "source": [
        "plt.scatter(x_test, y_test)\n",
        "x_ = np.array(range(-80,80))\n",
        "y_ = 1/(1+tf.exp(-(w*x_+b)))\n",
        "plt.plot(x_+np.mean(x_test),y_)  #因为x_test没有中心化，不是以0为中心，而sigmoid是以y=0为中心，所以要加上x_test的均值\n",
        "plt.show()"
      ],
      "execution_count": 91,
      "outputs": [
        {
          "output_type": "display_data",
          "data": {
            "image/png": "[encoded data removed]",
            "text/plain": [
              "<Figure size 432x288 with 1 Axes>"
            ]
          },
          "metadata": {
            "tags": [],
            "needs_background": "light"
          }
        }
      ]
    }
  ]
}