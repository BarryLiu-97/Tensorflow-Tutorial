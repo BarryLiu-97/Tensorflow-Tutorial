{
  "nbformat": 4,
  "nbformat_minor": 0,
  "metadata": {
    "colab": {
      "name": "tf_exp_0.ipynb",
      "provenance": [],
      "authorship_tag": "ABX9TyM6rrAz+XtiimrV70XGYt6c",
      "include_colab_link": true
    },
    "kernelspec": {
      "name": "python3",
      "display_name": "Python 3"
    },
    "accelerator": "GPU"
  },
  "cells": [
    {
      "cell_type": "markdown",
      "metadata": {
        "id": "view-in-github",
        "colab_type": "text"
      },
      "source": [
        "<a href=\"https://colab.research.google.com/github/BarryLiu-97/Tensorflow-Tutorial/blob/master/basic/tf_exp_0.ipynb\" target=\"_parent\"><img src=\"https://colab.research.google.com/assets/colab-badge.svg\" alt=\"Open In Colab\"/></a>"
      ]
    },
    {
      "cell_type": "code",
      "metadata": {
        "id": "GBHaiCaxtYF7",
        "colab_type": "code",
        "outputId": "62f2efcb-a85c-416b-8dfa-424faf604121",
        "colab": {
          "base_uri": "https://localhost:8080/",
          "height": 34
        }
      },
      "source": [
        "%tensorflow_version 2.x\n",
        "import tensorflow as tf\n",
        "device_name = tf.test.gpu_device_name()\n",
        "if device_name != '/device:GPU:0':\n",
        "  raise SystemError('GPU device not found')\n",
        "print('Found GPU at: {}'.format(device_name))"
      ],
      "execution_count": 0,
      "outputs": [
        {
          "output_type": "stream",
          "text": [
            "Found GPU at: /device:GPU:0\n"
          ],
          "name": "stdout"
        }
      ]
    },
    {
      "cell_type": "code",
      "metadata": {
        "id": "DW-qC8LJn0_N",
        "colab_type": "code",
        "outputId": "5a4e46bf-0866-4a1a-a432-e2dfec4ed612",
        "colab": {
          "base_uri": "https://localhost:8080/",
          "height": 34
        }
      },
      "source": [
        "print(\"Eager execution is:\", tf.executing_eagerly())   #是否是即时执行  tf2之后都将是即时执行"
      ],
      "execution_count": 0,
      "outputs": [
        {
          "output_type": "stream",
          "text": [
            "Eager execution is: True\n"
          ],
          "name": "stdout"
        }
      ]
    },
    {
      "cell_type": "markdown",
      "metadata": {
        "id": "hPymAsY3pGUP",
        "colab_type": "text"
      },
      "source": [
        "在Tensorflow2.x中运行Tensorflow1.x"
      ]
    },
    {
      "cell_type": "code",
      "metadata": {
        "id": "NhQXdO2Xo9rD",
        "colab_type": "code",
        "colab": {}
      },
      "source": [
        "import tensorflow.compat.v1 as tf\n",
        "tf.disable_v2_behavior()"
      ],
      "execution_count": 0,
      "outputs": []
    },
    {
      "cell_type": "markdown",
      "metadata": {
        "id": "pxXkxIl7peSN",
        "colab_type": "text"
      },
      "source": [
        "Tesndorflow中的\"Tensor\"表示张量，其实就是多维数组"
      ]
    },
    {
      "cell_type": "markdown",
      "metadata": {
        "id": "m8kwQ49U5BaD",
        "colab_type": "text"
      },
      "source": [
        "# Tensorflow-Basic-Tutorial\n",
        "## 创建张量\n",
        "- Tensorflow中所有运算都是在张量之间进行\n",
        "- Numpy数组仅仅作为输入和输出使用，即运算之间通过numpy数组提供数据，再转化为张量进行原酸，之后再使用.numpy进行输出\n",
        "- 张量可以运行在CPU、GPU、TPU，Numpy只能在CPU中运行  \n",
        "张量在CPU中运行时，与Numpy共享同一段内存，只是读出和理解的方式不同。  \n",
        "当张量在GPU中运行时，将内存中的Numpy数组的内容拷贝到显存中进行高速运算。  \n",
        "此时用Numpy方法读取值，需要从显存中拷贝一份到内存中，再以Numpy的方式输出。\n",
        "### 创建Tensor对象\n",
        "张量由Tensor类实现，每个张量都是一个Tensor对象  \n",
        "- __tf.constant()函数：创建张量__  \n",
        "tf.constant(value, dtype, shape) \n",
        "\n",
        "\n",
        "    value:数字/Python列表/Numpy数组   \n",
        "    dtype:元素的数据类型 \n",
        "    shape:数据的形状  "
      ]
    },
    {
      "cell_type": "code",
      "metadata": {
        "id": "rp9kGecf839o",
        "colab_type": "code",
        "colab": {}
      },
      "source": [
        "import tensorflow as tf"
      ],
      "execution_count": 0,
      "outputs": []
    },
    {
      "cell_type": "code",
      "metadata": {
        "id": "qJwhLHKc5A6Z",
        "colab_type": "code",
        "colab": {}
      },
      "source": [
        "a = tf.constant([[1,2],[3,4]])"
      ],
      "execution_count": 0,
      "outputs": []
    },
    {
      "cell_type": "markdown",
      "metadata": {
        "id": "53INwKYi9Kok",
        "colab_type": "text"
      },
      "source": [
        "tensorflow中的张量是对numpy的封装，所有张量可以通过.numpy()方式获得numpy数组"
      ]
    },
    {
      "cell_type": "code",
      "metadata": {
        "id": "mX_FRikI8_u3",
        "colab_type": "code",
        "outputId": "6f3996f2-b265-4661-89b4-c88ff2d5339a",
        "colab": {
          "base_uri": "https://localhost:8080/",
          "height": 118
        }
      },
      "source": [
        "print(a.numpy())\n",
        "print(type(a))\n",
        "print(a)   #没有了<...>，因为这是python的输出"
      ],
      "execution_count": 0,
      "outputs": [
        {
          "output_type": "stream",
          "text": [
            "[[1 2]\n",
            " [3 4]]\n",
            "<class 'tensorflow.python.framework.ops.EagerTensor'>\n",
            "tf.Tensor(\n",
            "[[1 2]\n",
            " [3 4]], shape=(2, 2), dtype=int32)\n"
          ],
          "name": "stdout"
        }
      ]
    },
    {
      "cell_type": "markdown",
      "metadata": {
        "id": "A9VWUXPj_x7M",
        "colab_type": "text"
      },
      "source": [
        "张量也可以是一个数字"
      ]
    },
    {
      "cell_type": "code",
      "metadata": {
        "id": "hwtmLnA9_wc_",
        "colab_type": "code",
        "outputId": "c937eaf8-5c80-49c2-f7ff-4f20081217a5",
        "colab": {
          "base_uri": "https://localhost:8080/",
          "height": 34
        }
      },
      "source": [
        "tf.constant(1.0)"
      ],
      "execution_count": 0,
      "outputs": [
        {
          "output_type": "execute_result",
          "data": {
            "text/plain": [
              "<tf.Tensor: shape=(), dtype=float32, numpy=1.0>"
            ]
          },
          "metadata": {
            "tags": []
          },
          "execution_count": 11
        }
      ]
    },
    {
      "cell_type": "markdown",
      "metadata": {
        "id": "vAKJ8aIR_7z-",
        "colab_type": "text"
      },
      "source": [
        "可见shape=()，表示零维，即一个数字"
      ]
    },
    {
      "cell_type": "code",
      "metadata": {
        "id": "NrNAS7xhAB_Q",
        "colab_type": "code",
        "outputId": "eef84f3b-c558-49e7-a098-893f07026eee",
        "colab": {
          "base_uri": "https://localhost:8080/",
          "height": 34
        }
      },
      "source": [
        "tf.constant(1.)"
      ],
      "execution_count": 0,
      "outputs": [
        {
          "output_type": "execute_result",
          "data": {
            "text/plain": [
              "<tf.Tensor: shape=(), dtype=float32, numpy=1.0>"
            ]
          },
          "metadata": {
            "tags": []
          },
          "execution_count": 12
        }
      ]
    },
    {
      "cell_type": "markdown",
      "metadata": {
        "id": "zkWv6zWjAJGa",
        "colab_type": "text"
      },
      "source": [
        "1.0可以省略为1. 浮点数默认为32位，也可以自定义,注意要加上tf., 表示是tf中的数据类型\n"
      ]
    },
    {
      "cell_type": "code",
      "metadata": {
        "id": "TcJq-ZthAXVz",
        "colab_type": "code",
        "outputId": "864ee07e-d8bf-4b26-da26-7cac278695fc",
        "colab": {
          "base_uri": "https://localhost:8080/",
          "height": 34
        }
      },
      "source": [
        "tf.constant(1., dtype=tf.float64)"
      ],
      "execution_count": 0,
      "outputs": [
        {
          "output_type": "execute_result",
          "data": {
            "text/plain": [
              "<tf.Tensor: shape=(), dtype=float64, numpy=1.0>"
            ]
          },
          "metadata": {
            "tags": []
          },
          "execution_count": 13
        }
      ]
    },
    {
      "cell_type": "markdown",
      "metadata": {
        "id": "fyjDB3MUAeTu",
        "colab_type": "text"
      },
      "source": [
        "使用numpy数组创建张量"
      ]
    },
    {
      "cell_type": "code",
      "metadata": {
        "id": "seD6Au8xAeHN",
        "colab_type": "code",
        "colab": {}
      },
      "source": [
        "import numpy as np"
      ],
      "execution_count": 0,
      "outputs": []
    },
    {
      "cell_type": "code",
      "metadata": {
        "id": "ep6MTtuwA4Wn",
        "colab_type": "code",
        "outputId": "2b41fc65-27b4-409b-dd31-8e0492fd2266",
        "colab": {
          "base_uri": "https://localhost:8080/",
          "height": 34
        }
      },
      "source": [
        "tf.constant(np.array([1,2]))"
      ],
      "execution_count": 0,
      "outputs": [
        {
          "output_type": "execute_result",
          "data": {
            "text/plain": [
              "<tf.Tensor: shape=(2,), dtype=int64, numpy=array([1, 2])>"
            ]
          },
          "metadata": {
            "tags": []
          },
          "execution_count": 15
        }
      ]
    },
    {
      "cell_type": "markdown",
      "metadata": {
        "id": "UKRL_LoMBDHV",
        "colab_type": "text"
      },
      "source": [
        "numpy在创建浮点数数组时默认64位在使用numpy数组创建tensor时同时页会接收其数据类型，故也为64位浮点数"
      ]
    },
    {
      "cell_type": "code",
      "metadata": {
        "id": "xks3V5H5BeaK",
        "colab_type": "code",
        "outputId": "3f99e7ef-111c-4d67-ea69-d06e170f6b4f",
        "colab": {
          "base_uri": "https://localhost:8080/",
          "height": 34
        }
      },
      "source": [
        "tf.constant(np.array([1.0,2.0]))"
      ],
      "execution_count": 0,
      "outputs": [
        {
          "output_type": "execute_result",
          "data": {
            "text/plain": [
              "<tf.Tensor: shape=(2,), dtype=float64, numpy=array([1., 2.])>"
            ]
          },
          "metadata": {
            "tags": []
          },
          "execution_count": 18
        }
      ]
    },
    {
      "cell_type": "markdown",
      "metadata": {
        "id": "TJRKo4SaBwgf",
        "colab_type": "text"
      },
      "source": [
        "在绝大多数情况下32位浮点数已够用，所以建议自定义为float32"
      ]
    },
    {
      "cell_type": "code",
      "metadata": {
        "id": "Y4Bqh7fqBwGH",
        "colab_type": "code",
        "outputId": "a0da6c72-de7f-4411-ceb3-4bde5ecef456",
        "colab": {
          "base_uri": "https://localhost:8080/",
          "height": 34
        }
      },
      "source": [
        "tf.constant(np.array([1.0,2.0]),dtype=tf.float32)"
      ],
      "execution_count": 0,
      "outputs": [
        {
          "output_type": "execute_result",
          "data": {
            "text/plain": [
              "<tf.Tensor: shape=(2,), dtype=float32, numpy=array([1., 2.], dtype=float32)>"
            ]
          },
          "metadata": {
            "tags": []
          },
          "execution_count": 20
        }
      ]
    },
    {
      "cell_type": "markdown",
      "metadata": {
        "id": "6o4KH6HVCCp8",
        "colab_type": "text"
      },
      "source": [
        "- __tf.cast()函数 改变张量中元素的数据类型__  \n",
        "tf.cast(x, dtype)"
      ]
    },
    {
      "cell_type": "code",
      "metadata": {
        "id": "VQFAKRJ8CCY_",
        "colab_type": "code",
        "outputId": "8328116b-dbe2-4f03-be5b-565e9657d655",
        "colab": {
          "base_uri": "https://localhost:8080/",
          "height": 34
        }
      },
      "source": [
        "a = tf.constant(np.array([1,2]))\n",
        "b = tf.cast(a, dtype=tf.float32)\n",
        "b.dtype"
      ],
      "execution_count": 0,
      "outputs": [
        {
          "output_type": "execute_result",
          "data": {
            "text/plain": [
              "tf.float32"
            ]
          },
          "metadata": {
            "tags": []
          },
          "execution_count": 22
        }
      ]
    },
    {
      "cell_type": "markdown",
      "metadata": {
        "id": "uCXhqq07Cs_V",
        "colab_type": "text"
      },
      "source": [
        "精度转换一般是低精度向高精度转换，否则可能因为数据溢出得到错误的结果"
      ]
    },
    {
      "cell_type": "code",
      "metadata": {
        "id": "EcB20lqVCq8-",
        "colab_type": "code",
        "outputId": "6d8d3064-9c13-4a9e-cc1e-5fe647cb4838",
        "colab": {
          "base_uri": "https://localhost:8080/",
          "height": 34
        }
      },
      "source": [
        "a = tf.constant(123456789, dtype=tf.int32)\n",
        "tf.cast(a, tf.int16)"
      ],
      "execution_count": 0,
      "outputs": [
        {
          "output_type": "execute_result",
          "data": {
            "text/plain": [
              "<tf.Tensor: shape=(), dtype=int16, numpy=-13035>"
            ]
          },
          "metadata": {
            "tags": []
          },
          "execution_count": 24
        }
      ]
    },
    {
      "cell_type": "markdown",
      "metadata": {
        "id": "VN-jx2DrDGgj",
        "colab_type": "text"
      },
      "source": [
        "constant的value参数还可为布尔型或者字符串"
      ]
    },
    {
      "cell_type": "code",
      "metadata": {
        "id": "xHha2mAjDGuf",
        "colab_type": "code",
        "colab": {}
      },
      "source": [
        "tf.constant(True)"
      ],
      "execution_count": 0,
      "outputs": []
    },
    {
      "cell_type": "markdown",
      "metadata": {
        "id": "ikuu5aJDDiUn",
        "colab_type": "text"
      },
      "source": [
        "可通过tf.cast()函数将布尔型与整型相互转换"
      ]
    },
    {
      "cell_type": "code",
      "metadata": {
        "id": "gqO2WKiWDXYW",
        "colab_type": "code",
        "outputId": "35c55ad9-416b-44ce-c9d4-c34380bfbebd",
        "colab": {
          "base_uri": "https://localhost:8080/",
          "height": 34
        }
      },
      "source": [
        "a = tf.constant([True, False])\n",
        "tf.cast(a, tf.int32)"
      ],
      "execution_count": 0,
      "outputs": [
        {
          "output_type": "execute_result",
          "data": {
            "text/plain": [
              "<tf.Tensor: shape=(2,), dtype=int32, numpy=array([1, 0], dtype=int32)>"
            ]
          },
          "metadata": {
            "tags": []
          },
          "execution_count": 25
        }
      ]
    },
    {
      "cell_type": "code",
      "metadata": {
        "id": "ufKC9RmaDq7w",
        "colab_type": "code",
        "outputId": "17b152bc-5c55-48d9-9d6b-469ca888e835",
        "colab": {
          "base_uri": "https://localhost:8080/",
          "height": 34
        }
      },
      "source": [
        "a = tf.constant([-1,0,1,2])\n",
        "tf.cast(a, tf.bool)  #非零为trye"
      ],
      "execution_count": 0,
      "outputs": [
        {
          "output_type": "execute_result",
          "data": {
            "text/plain": [
              "<tf.Tensor: shape=(4,), dtype=bool, numpy=array([ True, False,  True,  True])>"
            ]
          },
          "metadata": {
            "tags": []
          },
          "execution_count": 26
        }
      ]
    },
    {
      "cell_type": "code",
      "metadata": {
        "id": "Bg-GBak3D6ZQ",
        "colab_type": "code",
        "outputId": "0314fe80-544c-4961-e483-4851d20d47a6",
        "colab": {
          "base_uri": "https://localhost:8080/",
          "height": 34
        }
      },
      "source": [
        "tf.constant('hello')"
      ],
      "execution_count": 0,
      "outputs": [
        {
          "output_type": "execute_result",
          "data": {
            "text/plain": [
              "<tf.Tensor: shape=(), dtype=string, numpy=b'hello'>"
            ]
          },
          "metadata": {
            "tags": []
          },
          "execution_count": 28
        }
      ]
    },
    {
      "cell_type": "markdown",
      "metadata": {
        "id": "ULTotnA4D6LE",
        "colab_type": "text"
      },
      "source": [
        "b表示字节串，因为python3中字符串默认unicode编码"
      ]
    },
    {
      "cell_type": "markdown",
      "metadata": {
        "id": "SzTkkO2DMY1c",
        "colab_type": "text"
      },
      "source": [
        "- __tf.convert_to_tensor()函数 创建张量__   \n",
        "tf.convert_to_tensor(数组/列表/数字/布尔值/字符串)"
      ]
    },
    {
      "cell_type": "code",
      "metadata": {
        "id": "4lV8EOR6MpjN",
        "colab_type": "code",
        "colab": {}
      },
      "source": [
        "na = np.arange(12).reshape(3,4)\n",
        "ta = tf.convert_to_tensor(na)"
      ],
      "execution_count": 0,
      "outputs": []
    },
    {
      "cell_type": "code",
      "metadata": {
        "id": "UyM_2YlfM2NZ",
        "colab_type": "code",
        "outputId": "1ff63dfc-84b0-44b2-9a49-1ac3cb363b72",
        "colab": {
          "base_uri": "https://localhost:8080/",
          "height": 34
        }
      },
      "source": [
        "type(na)"
      ],
      "execution_count": 0,
      "outputs": [
        {
          "output_type": "execute_result",
          "data": {
            "text/plain": [
              "numpy.ndarray"
            ]
          },
          "metadata": {
            "tags": []
          },
          "execution_count": 30
        }
      ]
    },
    {
      "cell_type": "code",
      "metadata": {
        "id": "zbFWR8GSM4bB",
        "colab_type": "code",
        "outputId": "73c4d4f4-9bab-41b3-cb90-7d003fc9f981",
        "colab": {
          "base_uri": "https://localhost:8080/",
          "height": 34
        }
      },
      "source": [
        "type(ta)"
      ],
      "execution_count": 0,
      "outputs": [
        {
          "output_type": "execute_result",
          "data": {
            "text/plain": [
              "tensorflow.python.framework.ops.EagerTensor"
            ]
          },
          "metadata": {
            "tags": []
          },
          "execution_count": 31
        }
      ]
    },
    {
      "cell_type": "markdown",
      "metadata": {
        "id": "clTDk-VYNA5N",
        "colab_type": "text"
      },
      "source": [
        "- __is_tensor()函数 判断数据对象是否为张量__"
      ]
    },
    {
      "cell_type": "code",
      "metadata": {
        "id": "ILdIGi9oNBKW",
        "colab_type": "code",
        "outputId": "26a87ffc-0f21-42aa-a0c1-6849a16cc46c",
        "colab": {
          "base_uri": "https://localhost:8080/",
          "height": 34
        }
      },
      "source": [
        "tf.is_tensor(ta)"
      ],
      "execution_count": 0,
      "outputs": [
        {
          "output_type": "execute_result",
          "data": {
            "text/plain": [
              "True"
            ]
          },
          "metadata": {
            "tags": []
          },
          "execution_count": 32
        }
      ]
    },
    {
      "cell_type": "code",
      "metadata": {
        "id": "9QCpr-BLNPsQ",
        "colab_type": "code",
        "outputId": "6fff5861-78f8-4d88-a53c-9da02df12495",
        "colab": {
          "base_uri": "https://localhost:8080/",
          "height": 34
        }
      },
      "source": [
        "tf.is_tensor(na)"
      ],
      "execution_count": 0,
      "outputs": [
        {
          "output_type": "execute_result",
          "data": {
            "text/plain": [
              "False"
            ]
          },
          "metadata": {
            "tags": []
          },
          "execution_count": 33
        }
      ]
    },
    {
      "cell_type": "markdown",
      "metadata": {
        "id": "yaTcOeOZNUC4",
        "colab_type": "text"
      },
      "source": [
        "- __isinstance()函数 判断是否为tensor对象__\n",
        "\n"
      ]
    },
    {
      "cell_type": "code",
      "metadata": {
        "id": "BI6hW4u1NTiR",
        "colab_type": "code",
        "outputId": "64038518-df78-4c27-e029-2af0ce2b8951",
        "colab": {
          "base_uri": "https://localhost:8080/",
          "height": 34
        }
      },
      "source": [
        "isinstance(ta,tf.Tensor)"
      ],
      "execution_count": 0,
      "outputs": [
        {
          "output_type": "execute_result",
          "data": {
            "text/plain": [
              "True"
            ]
          },
          "metadata": {
            "tags": []
          },
          "execution_count": 34
        }
      ]
    },
    {
      "cell_type": "code",
      "metadata": {
        "id": "R9HelwKxNpET",
        "colab_type": "code",
        "outputId": "f837626c-387c-4d8d-84a2-97c78248a6ca",
        "colab": {
          "base_uri": "https://localhost:8080/",
          "height": 34
        }
      },
      "source": [
        "isinstance(na,np.ndarray)"
      ],
      "execution_count": 0,
      "outputs": [
        {
          "output_type": "execute_result",
          "data": {
            "text/plain": [
              "True"
            ]
          },
          "metadata": {
            "tags": []
          },
          "execution_count": 36
        }
      ]
    },
    {
      "cell_type": "markdown",
      "metadata": {
        "id": "04kxjW4ghoP0",
        "colab_type": "text"
      },
      "source": [
        "类似于Numpy,Tensorflow中也可以直接生成一些特殊的张量\n",
        "- 全0张量\n",
        "- 全1张量\n",
        "- 所有元素值都相同的张量\n",
        "- 元素取值符合某种随机分布的张量"
      ]
    },
    {
      "cell_type": "markdown",
      "metadata": {
        "id": "f9mHfmXgh-gS",
        "colab_type": "text"
      },
      "source": [
        "- __创建全0张量和全1张量__  \n",
        "tf.zeros(shape, dtype=tf.float32)  \n",
        "tf.ones(shape, dtype=tf.float32)  \n",
        "二者用法完全相同"
      ]
    },
    {
      "cell_type": "code",
      "metadata": {
        "id": "4CI9Io74h8hN",
        "colab_type": "code",
        "colab": {
          "base_uri": "https://localhost:8080/",
          "height": 50
        },
        "outputId": "1ca77624-3e73-470d-d9d2-7ed4a93dbf9d"
      },
      "source": [
        "tf.ones(shape=(2,1)).numpy()"
      ],
      "execution_count": 6,
      "outputs": [
        {
          "output_type": "execute_result",
          "data": {
            "text/plain": [
              "array([[1.],\n",
              "       [1.]], dtype=float32)"
            ]
          },
          "metadata": {
            "tags": []
          },
          "execution_count": 6
        }
      ]
    },
    {
      "cell_type": "code",
      "metadata": {
        "id": "KpgmI46oiwJ5",
        "colab_type": "code",
        "colab": {
          "base_uri": "https://localhost:8080/",
          "height": 34
        },
        "outputId": "ab618be7-f655-4288-9cfc-bab7a72b0f60"
      },
      "source": [
        "tf.ones([6]).numpy()"
      ],
      "execution_count": 5,
      "outputs": [
        {
          "output_type": "execute_result",
          "data": {
            "text/plain": [
              "array([1., 1., 1., 1., 1., 1.], dtype=float32)"
            ]
          },
          "metadata": {
            "tags": []
          },
          "execution_count": 5
        }
      ]
    },
    {
      "cell_type": "code",
      "metadata": {
        "id": "aBKfV7tMi5rx",
        "colab_type": "code",
        "colab": {
          "base_uri": "https://localhost:8080/",
          "height": 67
        },
        "outputId": "f417f061-8bb8-4b67-933e-bdbd67086f82"
      },
      "source": [
        "tf.ones([2,3],tf.int32)"
      ],
      "execution_count": 7,
      "outputs": [
        {
          "output_type": "execute_result",
          "data": {
            "text/plain": [
              "<tf.Tensor: shape=(2, 3), dtype=int32, numpy=\n",
              "array([[1, 1, 1],\n",
              "       [1, 1, 1]], dtype=int32)>"
            ]
          },
          "metadata": {
            "tags": []
          },
          "execution_count": 7
        }
      ]
    },
    {
      "cell_type": "markdown",
      "metadata": {
        "id": "jbhbZVOTjGNL",
        "colab_type": "text"
      },
      "source": [
        "- __tf.fill()函数 创建元素值都相同的张量__  \n",
        "tf.fill(dims, value)"
      ]
    },
    {
      "cell_type": "code",
      "metadata": {
        "id": "OSXNfG5ji_-B",
        "colab_type": "code",
        "colab": {
          "base_uri": "https://localhost:8080/",
          "height": 67
        },
        "outputId": "6e2ab097-fa2e-44c5-becf-2d462f1d3871"
      },
      "source": [
        "tf.fill([2,3],9)"
      ],
      "execution_count": 9,
      "outputs": [
        {
          "output_type": "execute_result",
          "data": {
            "text/plain": [
              "<tf.Tensor: shape=(2, 3), dtype=int32, numpy=\n",
              "array([[9, 9, 9],\n",
              "       [9, 9, 9]], dtype=int32)>"
            ]
          },
          "metadata": {
            "tags": []
          },
          "execution_count": 9
        }
      ]
    },
    {
      "cell_type": "markdown",
      "metadata": {
        "id": "SKoNewz6jlbf",
        "colab_type": "text"
      },
      "source": [
        "数值类型由设置的数字决定，如9则为int32，9.0则为float32"
      ]
    },
    {
      "cell_type": "code",
      "metadata": {
        "id": "pvoutbXRjub2",
        "colab_type": "code",
        "colab": {
          "base_uri": "https://localhost:8080/",
          "height": 67
        },
        "outputId": "8462404e-e7e2-4a54-b45f-094e1c7d4c81"
      },
      "source": [
        "tf.fill([2,3],9.0)"
      ],
      "execution_count": 10,
      "outputs": [
        {
          "output_type": "execute_result",
          "data": {
            "text/plain": [
              "<tf.Tensor: shape=(2, 3), dtype=float32, numpy=\n",
              "array([[9., 9., 9.],\n",
              "       [9., 9., 9.]], dtype=float32)>"
            ]
          },
          "metadata": {
            "tags": []
          },
          "execution_count": 10
        }
      ]
    },
    {
      "cell_type": "markdown",
      "metadata": {
        "id": "kuBTOSZqj3pf",
        "colab_type": "text"
      },
      "source": [
        "\n",
        "- __tf.constant()函数 创建元素值相同的张量__"
      ]
    },
    {
      "cell_type": "code",
      "metadata": {
        "id": "kvpR-TYFj3H-",
        "colab_type": "code",
        "colab": {
          "base_uri": "https://localhost:8080/",
          "height": 67
        },
        "outputId": "34debf6c-7eaa-4447-9222-e7ed257ed3da"
      },
      "source": [
        "tf.constant(9,shape=[2,3])"
      ],
      "execution_count": 11,
      "outputs": [
        {
          "output_type": "execute_result",
          "data": {
            "text/plain": [
              "<tf.Tensor: shape=(2, 3), dtype=int32, numpy=\n",
              "array([[9, 9, 9],\n",
              "       [9, 9, 9]], dtype=int32)>"
            ]
          },
          "metadata": {
            "tags": []
          },
          "execution_count": 11
        }
      ]
    },
    {
      "cell_type": "code",
      "metadata": {
        "id": "YNlpx8y6kFgX",
        "colab_type": "code",
        "colab": {
          "base_uri": "https://localhost:8080/",
          "height": 67
        },
        "outputId": "66cea5ee-e222-4b9a-bbd5-a87226db0bdc"
      },
      "source": [
        "tf.fill(dims=[2,3],value=9)"
      ],
      "execution_count": 14,
      "outputs": [
        {
          "output_type": "execute_result",
          "data": {
            "text/plain": [
              "<tf.Tensor: shape=(2, 3), dtype=int32, numpy=\n",
              "array([[9, 9, 9],\n",
              "       [9, 9, 9]], dtype=int32)>"
            ]
          },
          "metadata": {
            "tags": []
          },
          "execution_count": 14
        }
      ]
    },
    {
      "cell_type": "markdown",
      "metadata": {
        "id": "yHkkpJ5bkaEI",
        "colab_type": "text"
      },
      "source": [
        "- __tf.random.normal()函数 创建随机数张量--正态分布__  \n",
        "tf.ranndom.normal(shape, mean, stddev, dtype)  \n",
        "默认标准正态分布，均值为0标准差为1"
      ]
    },
    {
      "cell_type": "code",
      "metadata": {
        "id": "cd0f9v23kVpM",
        "colab_type": "code",
        "colab": {
          "base_uri": "https://localhost:8080/",
          "height": 67
        },
        "outputId": "310a669d-cb99-474f-b9d4-b78a1b1952ca"
      },
      "source": [
        "tf.random.normal([2,3])"
      ],
      "execution_count": 15,
      "outputs": [
        {
          "output_type": "execute_result",
          "data": {
            "text/plain": [
              "<tf.Tensor: shape=(2, 3), dtype=float32, numpy=\n",
              "array([[ 0.2579081 ,  0.66722006,  1.2525816 ],\n",
              "       [-0.11997709, -0.6495289 ,  1.7353811 ]], dtype=float32)>"
            ]
          },
          "metadata": {
            "tags": []
          },
          "execution_count": 15
        }
      ]
    },
    {
      "cell_type": "code",
      "metadata": {
        "id": "rQqDve0pk_cW",
        "colab_type": "code",
        "colab": {
          "base_uri": "https://localhost:8080/",
          "height": 218
        },
        "outputId": "37c14aa0-0904-4b81-d555-1d38a9966e95"
      },
      "source": [
        "tf.random.normal([3,3,3], mean=0.0, stddev=2.0)  #创建三维张量"
      ],
      "execution_count": 16,
      "outputs": [
        {
          "output_type": "execute_result",
          "data": {
            "text/plain": [
              "<tf.Tensor: shape=(3, 3, 3), dtype=float32, numpy=\n",
              "array([[[-1.2629505 , -0.6973741 ,  0.71443063],\n",
              "        [ 1.836137  ,  3.414606  ,  2.401567  ],\n",
              "        [-0.03277259,  4.787197  , -0.4700112 ]],\n",
              "\n",
              "       [[ 0.8261258 ,  0.38950595,  3.118399  ],\n",
              "        [-0.41610304,  1.852355  ,  0.09665768],\n",
              "        [ 0.3899136 ,  0.2673345 ,  1.3338954 ]],\n",
              "\n",
              "       [[-0.28611094,  1.0075696 , -0.50876033],\n",
              "        [-1.7829444 , -0.35610813,  1.8905334 ],\n",
              "        [-1.1053185 ,  1.7513752 , -1.345811  ]]], dtype=float32)>"
            ]
          },
          "metadata": {
            "tags": []
          },
          "execution_count": 16
        }
      ]
    },
    {
      "cell_type": "markdown",
      "metadata": {
        "id": "Ir9-6H3xlQnA",
        "colab_type": "text"
      },
      "source": [
        "- __tf.randomm_truncated_normal()函数 创建随机数张量--截断正态分布__\n",
        "tf.random.truncated_normal(shape, mean, stddev, dtype)  \n",
        "返回一个截断的正态分布  \n",
        "截断的标准是2倍的标准差  \n",
        "防止张量中出现与其他数据相差过大的数值  \n",
        "eg.当均值为0标准差为1时，\n",
        "使用tf.truncated_normal，不可能出现区间[-2,2]以外的点  \n",
        "使用tf.random.normal则有可能"
      ]
    },
    {
      "cell_type": "markdown",
      "metadata": {
        "id": "rWNQGxP1mXhg",
        "colab_type": "text"
      },
      "source": [
        "- __tf.random.set_seed()函数 设置随机种子__\n",
        "\n",
        "\n"
      ]
    },
    {
      "cell_type": "code",
      "metadata": {
        "id": "2exh6n1FloqE",
        "colab_type": "code",
        "colab": {
          "base_uri": "https://localhost:8080/",
          "height": 67
        },
        "outputId": "0f5bb090-1ab0-46db-984f-927cb6a61ef7"
      },
      "source": [
        "tf.random.set_seed(8)\n",
        "tf.random.normal([2,2])"
      ],
      "execution_count": 17,
      "outputs": [
        {
          "output_type": "execute_result",
          "data": {
            "text/plain": [
              "<tf.Tensor: shape=(2, 2), dtype=float32, numpy=\n",
              "array([[ 1.2074401 , -0.7452463 ],\n",
              "       [ 0.6908678 , -0.76359874]], dtype=float32)>"
            ]
          },
          "metadata": {
            "tags": []
          },
          "execution_count": 17
        }
      ]
    },
    {
      "cell_type": "code",
      "metadata": {
        "id": "idXD1xvRmrXF",
        "colab_type": "code",
        "colab": {
          "base_uri": "https://localhost:8080/",
          "height": 67
        },
        "outputId": "67e76a9b-3a69-44e7-c632-40341587d0d0"
      },
      "source": [
        "tf.random.set_seed(8)\n",
        "tf.random.normal([2,2])"
      ],
      "execution_count": 18,
      "outputs": [
        {
          "output_type": "execute_result",
          "data": {
            "text/plain": [
              "<tf.Tensor: shape=(2, 2), dtype=float32, numpy=\n",
              "array([[ 1.2074401 , -0.7452463 ],\n",
              "       [ 0.6908678 , -0.76359874]], dtype=float32)>"
            ]
          },
          "metadata": {
            "tags": []
          },
          "execution_count": 18
        }
      ]
    },
    {
      "cell_type": "markdown",
      "metadata": {
        "id": "FFoL1W96mxnL",
        "colab_type": "text"
      },
      "source": [
        "两次产生的随机张量相同"
      ]
    },
    {
      "cell_type": "markdown",
      "metadata": {
        "id": "aqpeUc_Cm73J",
        "colab_type": "text"
      },
      "source": [
        "- __tf.random.uniform()函数 创建均匀分布张量__  \n",
        "tf.random.uniform(shape, minval, maxval, dtype)  \n",
        "[minval, maxval) 区间前闭后开  \n",
        "张量元素服从[minval, maxval)的均匀分布"
      ]
    },
    {
      "cell_type": "code",
      "metadata": {
        "id": "um0cMXjtm0f9",
        "colab_type": "code",
        "colab": {
          "base_uri": "https://localhost:8080/",
          "height": 84
        },
        "outputId": "08ee3bc2-9c1e-4230-c8da-cc15a4f48d78"
      },
      "source": [
        "tf.random.uniform(shape=(3,3), minval=0, maxval=10, dtype='int32')"
      ],
      "execution_count": 19,
      "outputs": [
        {
          "output_type": "execute_result",
          "data": {
            "text/plain": [
              "<tf.Tensor: shape=(3, 3), dtype=int32, numpy=\n",
              "array([[6, 8, 3],\n",
              "       [9, 5, 1],\n",
              "       [8, 6, 1]], dtype=int32)>"
            ]
          },
          "metadata": {
            "tags": []
          },
          "execution_count": 19
        }
      ]
    },
    {
      "cell_type": "markdown",
      "metadata": {
        "id": "SWev71nlnxPq",
        "colab_type": "text"
      },
      "source": [
        "- __tf.random.shuffle()函数 随机打乱__  \n",
        "随机将张量根据第一维打乱,即只打乱第一维，其他维度根据第一维度进行变化  \n",
        "注意，python中都是列向量  \n",
        "1，3，5才是第一维度"
      ]
    },
    {
      "cell_type": "code",
      "metadata": {
        "id": "kzz7zXhzn-E2",
        "colab_type": "code",
        "colab": {
          "base_uri": "https://localhost:8080/",
          "height": 84
        },
        "outputId": "3e2752bc-2f2d-4842-905d-e189cbccee26"
      },
      "source": [
        "x = tf.constant([[1,2],[3,4],[5,6]])\n",
        "tf.random.shuffle(x)"
      ],
      "execution_count": 20,
      "outputs": [
        {
          "output_type": "execute_result",
          "data": {
            "text/plain": [
              "<tf.Tensor: shape=(3, 2), dtype=int32, numpy=\n",
              "array([[1, 2],\n",
              "       [5, 6],\n",
              "       [3, 4]], dtype=int32)>"
            ]
          },
          "metadata": {
            "tags": []
          },
          "execution_count": 20
        }
      ]
    },
    {
      "cell_type": "code",
      "metadata": {
        "id": "FU_cHfBaowqw",
        "colab_type": "code",
        "colab": {
          "base_uri": "https://localhost:8080/",
          "height": 34
        },
        "outputId": "336b8ff6-0b4e-4fe4-93c7-9b0a1cb6d80f"
      },
      "source": [
        "y = [1,2,3,4,5,6]\n",
        "tf.random.shuffle(y)  #结果返回一个张量"
      ],
      "execution_count": 22,
      "outputs": [
        {
          "output_type": "execute_result",
          "data": {
            "text/plain": [
              "<tf.Tensor: shape=(6,), dtype=int32, numpy=array([1, 5, 4, 2, 3, 6], dtype=int32)>"
            ]
          },
          "metadata": {
            "tags": []
          },
          "execution_count": 22
        }
      ]
    },
    {
      "cell_type": "code",
      "metadata": {
        "id": "LuRH2hglo9pV",
        "colab_type": "code",
        "colab": {
          "base_uri": "https://localhost:8080/",
          "height": 34
        },
        "outputId": "c5afd2e4-1393-4a32-a89d-b1da0eb18784"
      },
      "source": [
        "import numpy as np\n",
        "z = np.arange(5)\n",
        "tf.random.shuffle(z)"
      ],
      "execution_count": 24,
      "outputs": [
        {
          "output_type": "execute_result",
          "data": {
            "text/plain": [
              "<tf.Tensor: shape=(5,), dtype=int64, numpy=array([3, 1, 2, 4, 0])>"
            ]
          },
          "metadata": {
            "tags": []
          },
          "execution_count": 24
        }
      ]
    },
    {
      "cell_type": "markdown",
      "metadata": {
        "id": "stZwMeQBpIuC",
        "colab_type": "text"
      },
      "source": [
        "- __tf.range()函数 创建序列__  \n",
        "tf.range(start, limit, delta=1, dtype)\n",
        "创建一个整型的数字序列，区间左闭右开  \n",
        "delta表示步长"
      ]
    },
    {
      "cell_type": "code",
      "metadata": {
        "id": "LJjT7M00pI4x",
        "colab_type": "code",
        "colab": {
          "base_uri": "https://localhost:8080/",
          "height": 34
        },
        "outputId": "d6e9f86e-0ef5-4580-c953-e000c4c2d040"
      },
      "source": [
        "tf.range(10)"
      ],
      "execution_count": 26,
      "outputs": [
        {
          "output_type": "execute_result",
          "data": {
            "text/plain": [
              "<tf.Tensor: shape=(10,), dtype=int32, numpy=array([0, 1, 2, 3, 4, 5, 6, 7, 8, 9], dtype=int32)>"
            ]
          },
          "metadata": {
            "tags": []
          },
          "execution_count": 26
        }
      ]
    },
    {
      "cell_type": "code",
      "metadata": {
        "id": "K9jkbHwMpk4R",
        "colab_type": "code",
        "colab": {
          "base_uri": "https://localhost:8080/",
          "height": 34
        },
        "outputId": "4d055f60-32f9-485b-9fda-4edb71b5fff3"
      },
      "source": [
        "tf.range(10,delta=2)  #创建偶数序列，因为起始值为0"
      ],
      "execution_count": 27,
      "outputs": [
        {
          "output_type": "execute_result",
          "data": {
            "text/plain": [
              "<tf.Tensor: shape=(5,), dtype=int32, numpy=array([0, 2, 4, 6, 8], dtype=int32)>"
            ]
          },
          "metadata": {
            "tags": []
          },
          "execution_count": 27
        }
      ]
    },
    {
      "cell_type": "code",
      "metadata": {
        "id": "8-ORTXcqpumG",
        "colab_type": "code",
        "colab": {
          "base_uri": "https://localhost:8080/",
          "height": 34
        },
        "outputId": "41d06abf-6d05-4202-f2ca-6c2f8a586759"
      },
      "source": [
        "tf.range(1,10,delta=2)  #创建奇数序列"
      ],
      "execution_count": 29,
      "outputs": [
        {
          "output_type": "execute_result",
          "data": {
            "text/plain": [
              "<tf.Tensor: shape=(5,), dtype=int32, numpy=array([1, 3, 5, 7, 9], dtype=int32)>"
            ]
          },
          "metadata": {
            "tags": []
          },
          "execution_count": 29
        }
      ]
    },
    {
      "cell_type": "markdown",
      "metadata": {
        "id": "gkVTIqCLqXxN",
        "colab_type": "text"
      },
      "source": [
        "## Tensor对象的属性\n",
        "ndim:维度  \n",
        "shape:形状  \n",
        "dtype:数据类型"
      ]
    },
    {
      "cell_type": "code",
      "metadata": {
        "id": "E2BWbEQgp_4S",
        "colab_type": "code",
        "colab": {
          "base_uri": "https://localhost:8080/",
          "height": 67
        },
        "outputId": "695de591-cb5e-479a-a9c0-046b613fd3b6"
      },
      "source": [
        "a = tf.constant([[1,2],[3,4]])\n",
        "print('ndim', a.ndim)\n",
        "print('shape', a.shape)\n",
        "print('dtype', a.dtype)"
      ],
      "execution_count": 30,
      "outputs": [
        {
          "output_type": "stream",
          "text": [
            "ndim 2\n",
            "shape (2, 2)\n",
            "dtype <dtype: 'int32'>\n"
          ],
          "name": "stdout"
        }
      ]
    },
    {
      "cell_type": "markdown",
      "metadata": {
        "id": "6wlECRd_rJ6n",
        "colab_type": "text"
      },
      "source": [
        "- __tf.shape() tf.size() tf.rank()__  \n",
        "分别是形状、元素总数和维度"
      ]
    },
    {
      "cell_type": "code",
      "metadata": {
        "id": "SkaNxsH1q7TY",
        "colab_type": "code",
        "colab": {
          "base_uri": "https://localhost:8080/",
          "height": 67
        },
        "outputId": "6db4de68-6e24-4dfc-d552-676482639d76"
      },
      "source": [
        "print(tf.shape(a))\n",
        "print(tf.size(a))\n",
        "print(tf.rank(a))"
      ],
      "execution_count": 31,
      "outputs": [
        {
          "output_type": "stream",
          "text": [
            "tf.Tensor([2 2], shape=(2,), dtype=int32)\n",
            "tf.Tensor(4, shape=(), dtype=int32)\n",
            "tf.Tensor(2, shape=(), dtype=int32)\n"
          ],
          "name": "stdout"
        }
      ]
    }
  ]
}