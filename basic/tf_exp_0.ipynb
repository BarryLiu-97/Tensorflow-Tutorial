{
  "nbformat": 4,
  "nbformat_minor": 0,
  "metadata": {
    "colab": {
      "name": "tf_exp_0.ipynb",
      "provenance": [],
      "authorship_tag": "ABX9TyNkA6aR38J8zixqg/MExRsJ",
      "include_colab_link": true
    },
    "kernelspec": {
      "name": "python3",
      "display_name": "Python 3"
    },
    "accelerator": "GPU"
  },
  "cells": [
    {
      "cell_type": "markdown",
      "metadata": {
        "id": "view-in-github",
        "colab_type": "text"
      },
      "source": [
        "<a href=\"https://colab.research.google.com/github/BarryLiu-97/Tensorflow-Tutorial/blob/master/tf_exp_0.ipynb\" target=\"_parent\"><img src=\"https://colab.research.google.com/assets/colab-badge.svg\" alt=\"Open In Colab\"/></a>"
      ]
    },
    {
      "cell_type": "code",
      "metadata": {
        "id": "GBHaiCaxtYF7",
        "colab_type": "code",
        "outputId": "62f2efcb-a85c-416b-8dfa-424faf604121",
        "colab": {
          "base_uri": "https://localhost:8080/",
          "height": 34
        }
      },
      "source": [
        "%tensorflow_version 2.x\n",
        "import tensorflow as tf\n",
        "device_name = tf.test.gpu_device_name()\n",
        "if device_name != '/device:GPU:0':\n",
        "  raise SystemError('GPU device not found')\n",
        "print('Found GPU at: {}'.format(device_name))"
      ],
      "execution_count": 2,
      "outputs": [
        {
          "output_type": "stream",
          "text": [
            "Found GPU at: /device:GPU:0\n"
          ],
          "name": "stdout"
        }
      ]
    },
    {
      "cell_type": "code",
      "metadata": {
        "id": "DW-qC8LJn0_N",
        "colab_type": "code",
        "colab": {
          "base_uri": "https://localhost:8080/",
          "height": 34
        },
        "outputId": "5a4e46bf-0866-4a1a-a432-e2dfec4ed612"
      },
      "source": [
        "print(\"Eager execution is:\", tf.executing_eagerly())"
      ],
      "execution_count": 4,
      "outputs": [
        {
          "output_type": "stream",
          "text": [
            "Eager execution is: True\n"
          ],
          "name": "stdout"
        }
      ]
    },
    {
      "cell_type": "markdown",
      "metadata": {
        "id": "hPymAsY3pGUP",
        "colab_type": "text"
      },
      "source": [
        "#在Tensorflow2.x中运行Tensorflow1.x"
      ]
    },
    {
      "cell_type": "code",
      "metadata": {
        "id": "NhQXdO2Xo9rD",
        "colab_type": "code",
        "colab": {}
      },
      "source": [
        "import tensorflow.compat.v1 as tf\n",
        "tf.disable_v2_behavior()"
      ],
      "execution_count": 0,
      "outputs": []
    },
    {
      "cell_type": "markdown",
      "metadata": {
        "id": "pxXkxIl7peSN",
        "colab_type": "text"
      },
      "source": [
        "Tesndorflow中的\"Tensor\"表示张量，其实就是多维数组"
      ]
    },
    {
      "cell_type": "markdown",
      "metadata": {
        "id": "m8kwQ49U5BaD",
        "colab_type": "text"
      },
      "source": [
        "# Tensorflow-Tutorial\n",
        "## 创建张量\n",
        "### 创建Tensor对象\n",
        "张量由Tensor类实现，每个张量都是一个Tensor对象  \n",
        "- __tf.constant()函数：创建张量__\n",
        "tf.constant(value, dtype, shape) \n",
        "\n",
        "\n",
        "    value:数字/Python列表/Numpy数组   \n",
        "    dtype:元素的数据类型 \n",
        "    shape:数据的形状  "
      ]
    },
    {
      "cell_type": "code",
      "metadata": {
        "id": "rp9kGecf839o",
        "colab_type": "code",
        "colab": {}
      },
      "source": [
        "import tensorflow as tf"
      ],
      "execution_count": 0,
      "outputs": []
    },
    {
      "cell_type": "code",
      "metadata": {
        "id": "qJwhLHKc5A6Z",
        "colab_type": "code",
        "colab": {}
      },
      "source": [
        "a = tf.constant([[1,2],[3,4]])"
      ],
      "execution_count": 0,
      "outputs": []
    },
    {
      "cell_type": "markdown",
      "metadata": {
        "id": "53INwKYi9Kok",
        "colab_type": "text"
      },
      "source": [
        "tensorflow中的张量是对numpy的封装，所有张量可以通过.numpy()方式获得numpy数组"
      ]
    },
    {
      "cell_type": "code",
      "metadata": {
        "id": "mX_FRikI8_u3",
        "colab_type": "code",
        "colab": {
          "base_uri": "https://localhost:8080/",
          "height": 118
        },
        "outputId": "6f3996f2-b265-4661-89b4-c88ff2d5339a"
      },
      "source": [
        "print(a.numpy())\n",
        "print(type(a))\n",
        "print(a)   #没有了<...>，因为这是python的输出"
      ],
      "execution_count": 10,
      "outputs": [
        {
          "output_type": "stream",
          "text": [
            "[[1 2]\n",
            " [3 4]]\n",
            "<class 'tensorflow.python.framework.ops.EagerTensor'>\n",
            "tf.Tensor(\n",
            "[[1 2]\n",
            " [3 4]], shape=(2, 2), dtype=int32)\n"
          ],
          "name": "stdout"
        }
      ]
    },
    {
      "cell_type": "markdown",
      "metadata": {
        "id": "A9VWUXPj_x7M",
        "colab_type": "text"
      },
      "source": [
        "张量也可以是一个数字"
      ]
    },
    {
      "cell_type": "code",
      "metadata": {
        "id": "hwtmLnA9_wc_",
        "colab_type": "code",
        "colab": {
          "base_uri": "https://localhost:8080/",
          "height": 34
        },
        "outputId": "c937eaf8-5c80-49c2-f7ff-4f20081217a5"
      },
      "source": [
        "tf.constant(1.0)"
      ],
      "execution_count": 11,
      "outputs": [
        {
          "output_type": "execute_result",
          "data": {
            "text/plain": [
              "<tf.Tensor: shape=(), dtype=float32, numpy=1.0>"
            ]
          },
          "metadata": {
            "tags": []
          },
          "execution_count": 11
        }
      ]
    },
    {
      "cell_type": "markdown",
      "metadata": {
        "id": "vAKJ8aIR_7z-",
        "colab_type": "text"
      },
      "source": [
        "可见shape=()，表示零维，即一个数字"
      ]
    },
    {
      "cell_type": "code",
      "metadata": {
        "id": "NrNAS7xhAB_Q",
        "colab_type": "code",
        "colab": {
          "base_uri": "https://localhost:8080/",
          "height": 34
        },
        "outputId": "eef84f3b-c558-49e7-a098-893f07026eee"
      },
      "source": [
        "tf.constant(1.)"
      ],
      "execution_count": 12,
      "outputs": [
        {
          "output_type": "execute_result",
          "data": {
            "text/plain": [
              "<tf.Tensor: shape=(), dtype=float32, numpy=1.0>"
            ]
          },
          "metadata": {
            "tags": []
          },
          "execution_count": 12
        }
      ]
    },
    {
      "cell_type": "markdown",
      "metadata": {
        "id": "zkWv6zWjAJGa",
        "colab_type": "text"
      },
      "source": [
        "1.0可以省略为1. 浮点数默认为32位，也可以自定义,注意要加上tf., 表示是tf中的数据类型\n"
      ]
    },
    {
      "cell_type": "code",
      "metadata": {
        "id": "TcJq-ZthAXVz",
        "colab_type": "code",
        "colab": {
          "base_uri": "https://localhost:8080/",
          "height": 34
        },
        "outputId": "864ee07e-d8bf-4b26-da26-7cac278695fc"
      },
      "source": [
        "tf.constant(1., dtype=tf.float64)"
      ],
      "execution_count": 13,
      "outputs": [
        {
          "output_type": "execute_result",
          "data": {
            "text/plain": [
              "<tf.Tensor: shape=(), dtype=float64, numpy=1.0>"
            ]
          },
          "metadata": {
            "tags": []
          },
          "execution_count": 13
        }
      ]
    },
    {
      "cell_type": "markdown",
      "metadata": {
        "id": "fyjDB3MUAeTu",
        "colab_type": "text"
      },
      "source": [
        "使用numpy数组创建张量"
      ]
    },
    {
      "cell_type": "code",
      "metadata": {
        "id": "seD6Au8xAeHN",
        "colab_type": "code",
        "colab": {}
      },
      "source": [
        "import numpy as np"
      ],
      "execution_count": 0,
      "outputs": []
    },
    {
      "cell_type": "code",
      "metadata": {
        "id": "ep6MTtuwA4Wn",
        "colab_type": "code",
        "colab": {
          "base_uri": "https://localhost:8080/",
          "height": 34
        },
        "outputId": "2b41fc65-27b4-409b-dd31-8e0492fd2266"
      },
      "source": [
        "tf.constant(np.array([1,2]))"
      ],
      "execution_count": 15,
      "outputs": [
        {
          "output_type": "execute_result",
          "data": {
            "text/plain": [
              "<tf.Tensor: shape=(2,), dtype=int64, numpy=array([1, 2])>"
            ]
          },
          "metadata": {
            "tags": []
          },
          "execution_count": 15
        }
      ]
    },
    {
      "cell_type": "markdown",
      "metadata": {
        "id": "UKRL_LoMBDHV",
        "colab_type": "text"
      },
      "source": [
        "numpy在创建浮点数数组时默认64位在使用numpy数组创建tensor时同时页会接收其数据类型，故也为64位浮点数"
      ]
    },
    {
      "cell_type": "code",
      "metadata": {
        "id": "xks3V5H5BeaK",
        "colab_type": "code",
        "colab": {
          "base_uri": "https://localhost:8080/",
          "height": 34
        },
        "outputId": "3f99e7ef-111c-4d67-ea69-d06e170f6b4f"
      },
      "source": [
        "tf.constant(np.array([1.0,2.0]))"
      ],
      "execution_count": 18,
      "outputs": [
        {
          "output_type": "execute_result",
          "data": {
            "text/plain": [
              "<tf.Tensor: shape=(2,), dtype=float64, numpy=array([1., 2.])>"
            ]
          },
          "metadata": {
            "tags": []
          },
          "execution_count": 18
        }
      ]
    },
    {
      "cell_type": "markdown",
      "metadata": {
        "id": "TJRKo4SaBwgf",
        "colab_type": "text"
      },
      "source": [
        "在绝大多数情况下32位浮点数已够用，所以建议自定义为float32"
      ]
    },
    {
      "cell_type": "code",
      "metadata": {
        "id": "Y4Bqh7fqBwGH",
        "colab_type": "code",
        "colab": {
          "base_uri": "https://localhost:8080/",
          "height": 34
        },
        "outputId": "a0da6c72-de7f-4411-ceb3-4bde5ecef456"
      },
      "source": [
        "tf.constant(np.array([1.0,2.0]),dtype=tf.float32)"
      ],
      "execution_count": 20,
      "outputs": [
        {
          "output_type": "execute_result",
          "data": {
            "text/plain": [
              "<tf.Tensor: shape=(2,), dtype=float32, numpy=array([1., 2.], dtype=float32)>"
            ]
          },
          "metadata": {
            "tags": []
          },
          "execution_count": 20
        }
      ]
    },
    {
      "cell_type": "markdown",
      "metadata": {
        "id": "6o4KH6HVCCp8",
        "colab_type": "text"
      },
      "source": [
        "tf.cast()函数 改变张量中元素的数据类型\n",
        "\n",
        "|tf.cast(x, dtype)|\n",
        "|------------------|"
      ]
    },
    {
      "cell_type": "code",
      "metadata": {
        "id": "VQFAKRJ8CCY_",
        "colab_type": "code",
        "colab": {
          "base_uri": "https://localhost:8080/",
          "height": 34
        },
        "outputId": "8328116b-dbe2-4f03-be5b-565e9657d655"
      },
      "source": [
        "a = tf.constant(np.array([1,2]))\n",
        "b = tf.cast(a, dtype=tf.float32)\n",
        "b.dtype"
      ],
      "execution_count": 22,
      "outputs": [
        {
          "output_type": "execute_result",
          "data": {
            "text/plain": [
              "tf.float32"
            ]
          },
          "metadata": {
            "tags": []
          },
          "execution_count": 22
        }
      ]
    },
    {
      "cell_type": "markdown",
      "metadata": {
        "id": "uCXhqq07Cs_V",
        "colab_type": "text"
      },
      "source": [
        "精度转换一般是低精度向高精度转换，否则可能因为数据溢出得到错误的结果"
      ]
    },
    {
      "cell_type": "code",
      "metadata": {
        "id": "EcB20lqVCq8-",
        "colab_type": "code",
        "colab": {
          "base_uri": "https://localhost:8080/",
          "height": 34
        },
        "outputId": "6d8d3064-9c13-4a9e-cc1e-5fe647cb4838"
      },
      "source": [
        "a = tf.constant(123456789, dtype=tf.int32)\n",
        "tf.cast(a, tf.int16)"
      ],
      "execution_count": 24,
      "outputs": [
        {
          "output_type": "execute_result",
          "data": {
            "text/plain": [
              "<tf.Tensor: shape=(), dtype=int16, numpy=-13035>"
            ]
          },
          "metadata": {
            "tags": []
          },
          "execution_count": 24
        }
      ]
    },
    {
      "cell_type": "markdown",
      "metadata": {
        "id": "VN-jx2DrDGgj",
        "colab_type": "text"
      },
      "source": [
        "constant的value参数还可为布尔型或者字符串"
      ]
    },
    {
      "cell_type": "code",
      "metadata": {
        "id": "xHha2mAjDGuf",
        "colab_type": "code",
        "colab": {}
      },
      "source": [
        "tf.constant(True)"
      ],
      "execution_count": 0,
      "outputs": []
    },
    {
      "cell_type": "markdown",
      "metadata": {
        "id": "ikuu5aJDDiUn",
        "colab_type": "text"
      },
      "source": [
        "可通过tf.cast()函数将布尔型与整型相互转换"
      ]
    },
    {
      "cell_type": "code",
      "metadata": {
        "id": "gqO2WKiWDXYW",
        "colab_type": "code",
        "colab": {
          "base_uri": "https://localhost:8080/",
          "height": 34
        },
        "outputId": "35c55ad9-416b-44ce-c9d4-c34380bfbebd"
      },
      "source": [
        "a = tf.constant([True, False])\n",
        "tf.cast(a, tf.int32)"
      ],
      "execution_count": 25,
      "outputs": [
        {
          "output_type": "execute_result",
          "data": {
            "text/plain": [
              "<tf.Tensor: shape=(2,), dtype=int32, numpy=array([1, 0], dtype=int32)>"
            ]
          },
          "metadata": {
            "tags": []
          },
          "execution_count": 25
        }
      ]
    },
    {
      "cell_type": "code",
      "metadata": {
        "id": "ufKC9RmaDq7w",
        "colab_type": "code",
        "colab": {
          "base_uri": "https://localhost:8080/",
          "height": 34
        },
        "outputId": "17b152bc-5c55-48d9-9d6b-469ca888e835"
      },
      "source": [
        "a = tf.constant([-1,0,1,2])\n",
        "tf.cast(a, tf.bool)  #非零为trye"
      ],
      "execution_count": 26,
      "outputs": [
        {
          "output_type": "execute_result",
          "data": {
            "text/plain": [
              "<tf.Tensor: shape=(4,), dtype=bool, numpy=array([ True, False,  True,  True])>"
            ]
          },
          "metadata": {
            "tags": []
          },
          "execution_count": 26
        }
      ]
    },
    {
      "cell_type": "code",
      "metadata": {
        "id": "Bg-GBak3D6ZQ",
        "colab_type": "code",
        "colab": {
          "base_uri": "https://localhost:8080/",
          "height": 34
        },
        "outputId": "0314fe80-544c-4961-e483-4851d20d47a6"
      },
      "source": [
        "tf.constant('hello')"
      ],
      "execution_count": 28,
      "outputs": [
        {
          "output_type": "execute_result",
          "data": {
            "text/plain": [
              "<tf.Tensor: shape=(), dtype=string, numpy=b'hello'>"
            ]
          },
          "metadata": {
            "tags": []
          },
          "execution_count": 28
        }
      ]
    },
    {
      "cell_type": "markdown",
      "metadata": {
        "id": "ULTotnA4D6LE",
        "colab_type": "text"
      },
      "source": [
        "b表示字节串，因为python3中字符串默认unicode编码"
      ]
    },
    {
      "cell_type": "markdown",
      "metadata": {
        "id": "SzTkkO2DMY1c",
        "colab_type": "text"
      },
      "source": [
        "- tf.convert_to_tensor()函数  创建张量\n",
        "\n",
        "|tf.convert_to_tensor(数组/列表/数字/布尔值/字符串)|\n",
        "|-----------|"
      ]
    },
    {
      "cell_type": "code",
      "metadata": {
        "id": "4lV8EOR6MpjN",
        "colab_type": "code",
        "colab": {}
      },
      "source": [
        "na = np.arange(12).reshape(3,4)\n",
        "ta = tf.convert_to_tensor(na)"
      ],
      "execution_count": 0,
      "outputs": []
    },
    {
      "cell_type": "code",
      "metadata": {
        "id": "UyM_2YlfM2NZ",
        "colab_type": "code",
        "colab": {
          "base_uri": "https://localhost:8080/",
          "height": 34
        },
        "outputId": "1ff63dfc-84b0-44b2-9a49-1ac3cb363b72"
      },
      "source": [
        "type(na)"
      ],
      "execution_count": 30,
      "outputs": [
        {
          "output_type": "execute_result",
          "data": {
            "text/plain": [
              "numpy.ndarray"
            ]
          },
          "metadata": {
            "tags": []
          },
          "execution_count": 30
        }
      ]
    },
    {
      "cell_type": "code",
      "metadata": {
        "id": "zbFWR8GSM4bB",
        "colab_type": "code",
        "colab": {
          "base_uri": "https://localhost:8080/",
          "height": 34
        },
        "outputId": "73c4d4f4-9bab-41b3-cb90-7d003fc9f981"
      },
      "source": [
        "type(ta)"
      ],
      "execution_count": 31,
      "outputs": [
        {
          "output_type": "execute_result",
          "data": {
            "text/plain": [
              "tensorflow.python.framework.ops.EagerTensor"
            ]
          },
          "metadata": {
            "tags": []
          },
          "execution_count": 31
        }
      ]
    },
    {
      "cell_type": "markdown",
      "metadata": {
        "id": "clTDk-VYNA5N",
        "colab_type": "text"
      },
      "source": [
        "- is_tensor()函数 判断数据对象是否为张量"
      ]
    },
    {
      "cell_type": "code",
      "metadata": {
        "id": "ILdIGi9oNBKW",
        "colab_type": "code",
        "colab": {
          "base_uri": "https://localhost:8080/",
          "height": 34
        },
        "outputId": "26a87ffc-0f21-42aa-a0c1-6849a16cc46c"
      },
      "source": [
        "tf.is_tensor(ta)"
      ],
      "execution_count": 32,
      "outputs": [
        {
          "output_type": "execute_result",
          "data": {
            "text/plain": [
              "True"
            ]
          },
          "metadata": {
            "tags": []
          },
          "execution_count": 32
        }
      ]
    },
    {
      "cell_type": "code",
      "metadata": {
        "id": "9QCpr-BLNPsQ",
        "colab_type": "code",
        "colab": {
          "base_uri": "https://localhost:8080/",
          "height": 34
        },
        "outputId": "6fff5861-78f8-4d88-a53c-9da02df12495"
      },
      "source": [
        "tf.is_tensor(na)"
      ],
      "execution_count": 33,
      "outputs": [
        {
          "output_type": "execute_result",
          "data": {
            "text/plain": [
              "False"
            ]
          },
          "metadata": {
            "tags": []
          },
          "execution_count": 33
        }
      ]
    },
    {
      "cell_type": "markdown",
      "metadata": {
        "id": "yaTcOeOZNUC4",
        "colab_type": "text"
      },
      "source": [
        "- isinstance()函数 判断是否为tensor对象\n",
        "\n"
      ]
    },
    {
      "cell_type": "code",
      "metadata": {
        "id": "BI6hW4u1NTiR",
        "colab_type": "code",
        "colab": {
          "base_uri": "https://localhost:8080/",
          "height": 34
        },
        "outputId": "64038518-df78-4c27-e029-2af0ce2b8951"
      },
      "source": [
        "isinstance(ta,tf.Tensor)"
      ],
      "execution_count": 34,
      "outputs": [
        {
          "output_type": "execute_result",
          "data": {
            "text/plain": [
              "True"
            ]
          },
          "metadata": {
            "tags": []
          },
          "execution_count": 34
        }
      ]
    },
    {
      "cell_type": "code",
      "metadata": {
        "id": "R9HelwKxNpET",
        "colab_type": "code",
        "colab": {
          "base_uri": "https://localhost:8080/",
          "height": 34
        },
        "outputId": "f837626c-387c-4d8d-84a2-97c78248a6ca"
      },
      "source": [
        "isinstance(na,np.ndarray)"
      ],
      "execution_count": 36,
      "outputs": [
        {
          "output_type": "execute_result",
          "data": {
            "text/plain": [
              "True"
            ]
          },
          "metadata": {
            "tags": []
          },
          "execution_count": 36
        }
      ]
    }
  ]
}
