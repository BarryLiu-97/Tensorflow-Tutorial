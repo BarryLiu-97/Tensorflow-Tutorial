{
  "nbformat": 4,
  "nbformat_minor": 0,
  "metadata": {
    "colab": {
      "name": "tf_exp_8.ipynb",
      "provenance": [],
      "authorship_tag": "ABX9TyOzinMAYc0y3BHDW9Cq7SW8",
      "include_colab_link": true
    },
    "kernelspec": {
      "name": "python3",
      "display_name": "Python 3"
    }
  },
  "cells": [
    {
      "cell_type": "markdown",
      "metadata": {
        "id": "view-in-github",
        "colab_type": "text"
      },
      "source": [
        "<a href=\"https://colab.research.google.com/github/BarryLiu-97/Tensorflow-Tutorial/blob/master/basic/tf_exp_8.ipynb\" target=\"_parent\"><img src=\"https://colab.research.google.com/assets/colab-badge.svg\" alt=\"Open In Colab\"/></a>"
      ]
    },
    {
      "cell_type": "markdown",
      "metadata": {
        "id": "1WbxmPGTdSPC",
        "colab_type": "text"
      },
      "source": [
        "# 多元逻辑回归"
      ]
    },
    {
      "cell_type": "code",
      "metadata": {
        "id": "0OyTAjJkdKwS",
        "colab_type": "code",
        "colab": {}
      },
      "source": [
        "import tensorflow as tf\n",
        "import numpy as np\n",
        "import pandas as pd\n",
        "import matplotlib as mpl\n",
        "import matplotlib.pyplot as plt"
      ],
      "execution_count": 0,
      "outputs": []
    },
    {
      "cell_type": "code",
      "metadata": {
        "id": "7cjR6evidnMu",
        "colab_type": "code",
        "colab": {}
      },
      "source": [
        "TRAIN_URL = 'http://download.tensorflow.org/data/iris_training.csv'\n",
        "train_path = tf.keras.utils.get_file(TRAIN_URL.split('/')[-1], TRAIN_URL)  #加载数据集\n",
        "\n",
        "TEST_URL = 'http://download.tensorflow.org/data/iris_test.csv'\n",
        "test_path = tf.keras.utils.get_file(TEST_URL.split('/')[-1],TEST_URL)"
      ],
      "execution_count": 0,
      "outputs": []
    },
    {
      "cell_type": "code",
      "metadata": {
        "id": "K7VtiKJvd80m",
        "colab_type": "code",
        "colab": {}
      },
      "source": [
        "df_iris = pd.read_csv(train_path, header=0)"
      ],
      "execution_count": 0,
      "outputs": []
    },
    {
      "cell_type": "code",
      "metadata": {
        "id": "YdZ2-tBDeIpR",
        "colab_type": "code",
        "colab": {}
      },
      "source": [
        "iris = np.array(df_iris)\n",
        "iris.shape   #0-3维度是属性，第四个维度是标签\n",
        "df_iris_test = pd.read_csv(test_path,header=0)\n",
        "iris_test = np.array(df_iris_test)"
      ],
      "execution_count": 0,
      "outputs": []
    },
    {
      "cell_type": "code",
      "metadata": {
        "id": "BABwvzLPehmp",
        "colab_type": "code",
        "colab": {}
      },
      "source": [
        "train_x = iris[:,0:2] #提取第0个第1个属性\n",
        "train_y = iris[:,4]  #标签\n",
        "test_x = iris_test[:,0:2]\n",
        "test_y = iris_test[:,4]"
      ],
      "execution_count": 0,
      "outputs": []
    },
    {
      "cell_type": "code",
      "metadata": {
        "id": "ljHM8NMPeuDP",
        "colab_type": "code",
        "colab": {
          "base_uri": "https://localhost:8080/",
          "height": 34
        },
        "outputId": "89f70d09-5c13-44d4-a529-868b2c7f796e"
      },
      "source": [
        "train_x.shape, train_y.shape"
      ],
      "execution_count": 6,
      "outputs": [
        {
          "output_type": "execute_result",
          "data": {
            "text/plain": [
              "((120, 2), (120,))"
            ]
          },
          "metadata": {
            "tags": []
          },
          "execution_count": 6
        }
      ]
    },
    {
      "cell_type": "code",
      "metadata": {
        "id": "52vjX7jse_eU",
        "colab_type": "code",
        "colab": {
          "base_uri": "https://localhost:8080/",
          "height": 50
        },
        "outputId": "ec83a553-26c6-4c22-9dd0-311fc3f5bf79"
      },
      "source": [
        "x_train = train_x[train_y < 2]\n",
        "y_train = train_y[train_y < 2] #提取出标签为0和1的样本 \n",
        "num = len(x_train)\n",
        "\n",
        "x_test = test_x[test_y < 2]\n",
        "y_test = test_y[test_y < 2] #提取出标签为0和1的样本 \n",
        "num_test = len(x_test)\n",
        "\n",
        "print(np.mean(x_train),'\\n',np.mean(x_test))"
      ],
      "execution_count": 7,
      "outputs": [
        {
          "output_type": "stream",
          "text": [
            "4.264743589743589 \n",
            " 4.345454545454546\n"
          ],
          "name": "stdout"
        }
      ]
    },
    {
      "cell_type": "code",
      "metadata": {
        "id": "H3_QqdWPfYD1",
        "colab_type": "code",
        "colab": {
          "base_uri": "https://localhost:8080/",
          "height": 268
        },
        "outputId": "5ca12cfc-6d29-4411-c9bb-b4b187984a73"
      },
      "source": [
        "cm_pt = mpl.colors.ListedColormap(['blue','red'])  #自己定义色彩方案\n",
        "plt.scatter(x_train[:,0], x_train[:,1], c=y_train, cmap=cm_pt)\n",
        "plt.show()"
      ],
      "execution_count": 8,
      "outputs": [
        {
          "output_type": "display_data",
          "data": {
            "image/png": "[encoded data removed]",
            "text/plain": [
              "<Figure size 432x288 with 1 Axes>"
            ]
          },
          "metadata": {
            "tags": [],
            "needs_background": "light"
          }
        }
      ]
    },
    {
      "cell_type": "markdown",
      "metadata": {
        "id": "sZL2X_aHg9MP",
        "colab_type": "text"
      },
      "source": [
        "可以看出这两个属性的尺度相同，无需归一化，可以直接中心化。"
      ]
    },
    {
      "cell_type": "code",
      "metadata": {
        "id": "0NLsWYcpgcaZ",
        "colab_type": "code",
        "colab": {
          "base_uri": "https://localhost:8080/",
          "height": 265
        },
        "outputId": "c7ecfb7e-5640-4d75-9aea-998135fc8e1e"
      },
      "source": [
        "#属性中心化\n",
        "x_train = x_train-np.mean(x_train,axis=0) \n",
        "x_test = x_test-np.mean(x_test,axis=0)  \n",
        "#对每个属性中心化，就是按列中心化\n",
        "plt.scatter(x_train[:,0],x_train[:,1],c=y_train,cmap=cm_pt)\n",
        "plt.show()"
      ],
      "execution_count": 9,
      "outputs": [
        {
          "output_type": "display_data",
          "data": {
            "image/png": "[encoded data removed]",
            "text/plain": [
              "<Figure size 432x288 with 1 Axes>"
            ]
          },
          "metadata": {
            "tags": [],
            "needs_background": "light"
          }
        }
      ]
    },
    {
      "cell_type": "code",
      "metadata": {
        "id": "TIyo68hjjd4x",
        "colab_type": "code",
        "colab": {}
      },
      "source": [
        "x0_train = np.ones(num).reshape(-1,1)\n",
        "X = tf.cast(tf.concat((x0_train, x_train), axis=1),tf.float32)\n",
        "Y = tf.cast(y_train.reshape(-1,1),tf.float32)\n",
        "\n",
        "x0_test = np.ones(num_test).reshape(-1,1)\n",
        "X_test = tf.cast(tf.concat((x0_test,x_test),axis=1),dtype=tf.float32)\n",
        "Y_test = tf.cast(y_test.reshape(-1,1),dtype=tf.float32)"
      ],
      "execution_count": 0,
      "outputs": []
    },
    {
      "cell_type": "code",
      "metadata": {
        "id": "gE30djkDj4CP",
        "colab_type": "code",
        "colab": {
          "base_uri": "https://localhost:8080/",
          "height": 34
        },
        "outputId": "32c31b2d-db2b-4ffd-ec26-279ee65f3308"
      },
      "source": [
        "X.shape, Y.shape"
      ],
      "execution_count": 11,
      "outputs": [
        {
          "output_type": "execute_result",
          "data": {
            "text/plain": [
              "(TensorShape([78, 3]), TensorShape([78, 1]))"
            ]
          },
          "metadata": {
            "tags": []
          },
          "execution_count": 11
        }
      ]
    },
    {
      "cell_type": "code",
      "metadata": {
        "id": "Nyh8X6SGksHA",
        "colab_type": "code",
        "colab": {}
      },
      "source": [
        "learn_rate = 0.2\n",
        "epoch = 120\n",
        "display_step = 30\n",
        "np.random.seed(1)\n",
        "W = tf.Variable(np.random.randn(3,1),dtype=tf.float32)"
      ],
      "execution_count": 0,
      "outputs": []
    },
    {
      "cell_type": "code",
      "metadata": {
        "id": "aQuqW00zk-Iu",
        "colab_type": "code",
        "colab": {
          "base_uri": "https://localhost:8080/",
          "height": 101
        },
        "outputId": "b058dff3-21e2-45ea-bd41-bd691056d2f9"
      },
      "source": [
        "ce = []  #交叉熵损失\n",
        "acc = []\n",
        "ce_test = []\n",
        "acc_test = []\n",
        "\n",
        "for i in range(epoch+1):\n",
        "  with tf.GradientTape() as tape:\n",
        "    PRED_train = 1/(1+tf.exp(-tf.matmul(X,W)))\n",
        "    Loss_train = -tf.reduce_mean(Y*tf.math.log(PRED_train)+(1-Y)*tf.math.log(1-PRED_train))\n",
        "\n",
        "    PRED_test = 1/(1+tf.exp(-tf.matmul(X_test,W)))\n",
        "    Loss_test = -tf.reduce_mean(Y_test*tf.math.log(PRED_test)+(1-Y_test)*tf.math.log(1-PRED_test))\n",
        "\n",
        "  accuracy_train = tf.reduce_mean(tf.cast(tf.equal(tf.where(PRED_train.numpy()<0.5,0.,1.),Y),tf.float32))\n",
        "  accuracy_test = tf.reduce_mean(tf.cast(tf.equal(tf.where(PRED_test.numpy()<0.5,0.,1.),Y_test),tf.float32))\n",
        "  \n",
        "  ce.append(Loss_train)\n",
        "  acc.append(accuracy_train)\n",
        "  ce_test.append(Loss_test)\n",
        "  acc_test.append(accuracy_test)\n",
        "\n",
        "  dL_dW = tape.gradient(Loss_train,W)\n",
        "  W.assign_sub(learn_rate*dL_dW)\n",
        "\n",
        "  if i % display_step == 0:\n",
        "    print('i:%i, Train Acc:%f, Test Loss:%f, Test Acc:%f, Train Loss:%f'%(i,accuracy_train,Loss_train,accuracy_test,Loss_test))"
      ],
      "execution_count": 16,
      "outputs": [
        {
          "output_type": "stream",
          "text": [
            "i:0, Train Acc:0.461538, Test Loss:1.039044, Test Acc:0.636364, Train Loss:0.754057\n",
            "i:30, Train Acc:0.974359, Test Loss:0.419344, Test Acc:1.000000, Train Loss:0.385821\n",
            "i:60, Train Acc:0.987179, Test Loss:0.285561, Test Acc:0.954545, Train Loss:0.313071\n",
            "i:90, Train Acc:1.000000, Test Loss:0.227177, Test Acc:0.863636, Train Loss:0.271092\n",
            "i:120, Train Acc:1.000000, Test Loss:0.192279, Test Acc:0.863636, Train Loss:0.241654\n"
          ],
          "name": "stdout"
        }
      ]
    },
    {
      "cell_type": "code",
      "metadata": {
        "id": "DguFeooLnH98",
        "colab_type": "code",
        "colab": {
          "base_uri": "https://localhost:8080/",
          "height": 211
        },
        "outputId": "d17c8742-63cb-4205-f74d-b9cad2d6337a"
      },
      "source": [
        "plt.figure(figsize=(5,3))\n",
        "plt.plot(ce,color='b',label='Loss')\n",
        "plt.plot(acc,color='r',label='acc')\n",
        "plt.legend()\n",
        "plt.show()"
      ],
      "execution_count": 17,
      "outputs": [
        {
          "output_type": "display_data",
          "data": {
            "image/png": "[encoded data removed]",
            "text/plain": [
              "<Figure size 360x216 with 1 Axes>"
            ]
          },
          "metadata": {
            "tags": [],
            "needs_background": "light"
          }
        }
      ]
    },
    {
      "cell_type": "markdown",
      "metadata": {
        "id": "rIipc_iJn1Q-",
        "colab_type": "text"
      },
      "source": [
        "### 绘制线性分类器的决策边界"
      ]
    },
    {
      "cell_type": "code",
      "metadata": {
        "id": "DR3s9bwgn4wM",
        "colab_type": "code",
        "colab": {
          "base_uri": "https://localhost:8080/",
          "height": 269
        },
        "outputId": "f77db3bd-8ff5-48e7-b67c-54ad062b8202"
      },
      "source": [
        "plt.scatter(x_train[:,0],x_train[:,1],c=y_train,cmap=cm_pt)\n",
        "x_ = [-1.5,1.5]\n",
        "\n",
        "#将下面三行放在if i % display_step的判断语句中可以可视化训练过程中决策边界的变化\n",
        "y_ = -(W[1]*x_+W[0])/W[2]\n",
        "plt.plot(x_,y_,color='g')\n",
        "plt.show()"
      ],
      "execution_count": 18,
      "outputs": [
        {
          "output_type": "display_data",
          "data": {
            "image/png": "[encoded data removed]",
            "text/plain": [
              "<Figure size 432x288 with 1 Axes>"
            ]
          },
          "metadata": {
            "tags": [],
            "needs_background": "light"
          }
        }
      ]
    }
  ]
}