{
  "nbformat": 4,
  "nbformat_minor": 0,
  "metadata": {
    "colab": {
      "name": "tf_exp_4.ipynb",
      "provenance": [],
      "authorship_tag": "ABX9TyMJZJLkGBhKd5uPo2CvYQta",
      "include_colab_link": true
    },
    "kernelspec": {
      "name": "python3",
      "display_name": "Python 3"
    }
  },
  "cells": [
    {
      "cell_type": "markdown",
      "metadata": {
        "id": "view-in-github",
        "colab_type": "text"
      },
      "source": [
        "<a href=\"https://colab.research.google.com/github/BarryLiu-97/Tensorflow-Tutorial/blob/master/basic/tf_exp_4.ipynb\" target=\"_parent\"><img src=\"https://colab.research.google.com/assets/colab-badge.svg\" alt=\"Open In Colab\"/></a>"
      ]
    },
    {
      "cell_type": "markdown",
      "metadata": {
        "id": "6XmruQ-Zcy4l",
        "colab_type": "text"
      },
      "source": [
        "# 自动求导机制\n",
        "GradientTape类 记录梯度数据的磁带\n",
        "GradientTape(persistent, watch_accessed_variables)    \n",
        "perisistent=False 该tape只求导一次，求导之后就被销毁  \n",
        "perisistent=True 可以多次求导  \n",
        "watch_accessed_variables 自动监视所有的可训练变量 取值默认为True  \n",
        "```  \n",
        "with GradientTape() as tape:__   \n",
        "  函数表达式 \n",
        "grad=tape.gradient(函数，自变量)   \n",
        "```   \n"
      ]
    },
    {
      "cell_type": "code",
      "metadata": {
        "id": "YnH21pXDco0x",
        "colab_type": "code",
        "colab": {}
      },
      "source": [
        "import tensorflow as tf\n",
        "import numpy as np"
      ],
      "execution_count": 0,
      "outputs": []
    },
    {
      "cell_type": "code",
      "metadata": {
        "id": "0WD0jG6BYfvA",
        "colab_type": "code",
        "colab": {}
      },
      "source": [
        "x = tf.Variable(3.)\n",
        "with tf.GradientTape() as tape:\n",
        "  y = tf.square(x)\n",
        "dy_dx = tape.gradient(y,x)"
      ],
      "execution_count": 0,
      "outputs": []
    },
    {
      "cell_type": "code",
      "metadata": {
        "id": "H1J7d8qRZCCQ",
        "colab_type": "code",
        "colab": {
          "base_uri": "https://localhost:8080/",
          "height": 50
        },
        "outputId": "518e3f5c-c434-4ca7-f4ba-334f9d9fd61f"
      },
      "source": [
        "print(y)\n",
        "print(dy_dx)"
      ],
      "execution_count": 4,
      "outputs": [
        {
          "output_type": "stream",
          "text": [
            "tf.Tensor(9.0, shape=(), dtype=float32)\n",
            "tf.Tensor(6.0, shape=(), dtype=float32)\n"
          ],
          "name": "stdout"
        }
      ]
    },
    {
      "cell_type": "code",
      "metadata": {
        "id": "6fz1-qQ6aGSA",
        "colab_type": "code",
        "colab": {
          "base_uri": "https://localhost:8080/",
          "height": 84
        },
        "outputId": "b22cda10-3f85-4da9-8c80-242623eda1af"
      },
      "source": [
        "x = tf.Variable(3.)\n",
        "with tf.GradientTape(persistent=True) as tape:\n",
        "  y = tf.square(x)\n",
        "  z = pow(x,3)  #z等于x的三次方\n",
        "dy_dx = tape.gradient(y,x)\n",
        "dz_dx = tape.gradient(z,x)\n",
        "\n",
        "print(y)\n",
        "print(dy_dx)\n",
        "print(z)\n",
        "print(dz_dx)\n",
        "\n",
        "del tape  #persistent=True时需使用del对tape进行释放"
      ],
      "execution_count": 5,
      "outputs": [
        {
          "output_type": "stream",
          "text": [
            "tf.Tensor(9.0, shape=(), dtype=float32)\n",
            "tf.Tensor(6.0, shape=(), dtype=float32)\n",
            "tf.Tensor(27.0, shape=(), dtype=float32)\n",
            "tf.Tensor(27.0, shape=(), dtype=float32)\n"
          ],
          "name": "stdout"
        }
      ]
    },
    {
      "cell_type": "code",
      "metadata": {
        "id": "sZfa7F-udcN9",
        "colab_type": "code",
        "colab": {
          "base_uri": "https://localhost:8080/",
          "height": 34
        },
        "outputId": "eb9ae6a5-e5b0-4226-94ab-24f2bc7cdbf3"
      },
      "source": [
        "x = tf.Variable(3.)\n",
        "with tf.GradientTape(watch_accessed_variables=False) as tape:\n",
        "  y = tf.square(x)\n",
        "dy_dx_1 = tape.gradient(y,x)\n",
        "print(dy_dx_1)"
      ],
      "execution_count": 8,
      "outputs": [
        {
          "output_type": "stream",
          "text": [
            "None\n"
          ],
          "name": "stdout"
        }
      ]
    },
    {
      "cell_type": "markdown",
      "metadata": {
        "id": "YjC-3QXnd2Kb",
        "colab_type": "text"
      },
      "source": [
        "添加监视 watch(变量)  \n",
        "监视非可训练变量  "
      ]
    },
    {
      "cell_type": "code",
      "metadata": {
        "id": "lNjL1x0ud7Jj",
        "colab_type": "code",
        "colab": {
          "base_uri": "https://localhost:8080/",
          "height": 34
        },
        "outputId": "002dffd0-cd6b-402b-a310-a67014d3303d"
      },
      "source": [
        "x = tf.Variable(3.)\n",
        "with tf.GradientTape(watch_accessed_variables=False) as tape:\n",
        "  tape.watch(x)   #通过手动添加watch对变量的监视\n",
        "  y = tf.square(x)\n",
        "dy_dx_1 = tape.gradient(y,x)\n",
        "print(dy_dx_1)"
      ],
      "execution_count": 10,
      "outputs": [
        {
          "output_type": "stream",
          "text": [
            "tf.Tensor(6.0, shape=(), dtype=float32)\n"
          ],
          "name": "stdout"
        }
      ]
    },
    {
      "cell_type": "code",
      "metadata": {
        "id": "3qIDq5WMecpD",
        "colab_type": "code",
        "colab": {
          "base_uri": "https://localhost:8080/",
          "height": 34
        },
        "outputId": "be790323-e8f8-4c73-80c1-7a76b03e10ba"
      },
      "source": [
        "x = tf.constant(3.)  #tf.constant()不是一个可训练变量\n",
        "with tf.GradientTape(watch_accessed_variables=False) as tape:\n",
        "  tape.watch(x)   #通过手动添加watch对变量的监视\n",
        "  y = tf.square(x)\n",
        "dy_dx_1 = tape.gradient(y,x)\n",
        "print(dy_dx_1)"
      ],
      "execution_count": 11,
      "outputs": [
        {
          "output_type": "stream",
          "text": [
            "tf.Tensor(6.0, shape=(), dtype=float32)\n"
          ],
          "name": "stdout"
        }
      ]
    },
    {
      "cell_type": "markdown",
      "metadata": {
        "id": "Y8MStWPCeo0p",
        "colab_type": "text"
      },
      "source": [
        "## 多元函数求偏导数\n",
        "tape.graident(函数，自变量)  \n",
        "其中自变量可以是一个，也可以是多个  \n"
      ]
    },
    {
      "cell_type": "code",
      "metadata": {
        "id": "yGLlHJAhe6-A",
        "colab_type": "code",
        "colab": {
          "base_uri": "https://localhost:8080/",
          "height": 50
        },
        "outputId": "64af6f2a-d9e7-4ccf-bb93-a7655535e7f9"
      },
      "source": [
        "x = tf.Variable(3.)\n",
        "y = tf.Variable(4.)\n",
        "\n",
        "with tf.GradientTape() as tape:\n",
        "  f = tf.square(x) + 2*tf.square(y) + 1\n",
        "\n",
        "df_dx, df_dy = tape.gradient(f,[x,y])  #也可以赋值给一个变量，返回一个列表\n",
        "print(df_dx)\n",
        "print(df_dy)"
      ],
      "execution_count": 24,
      "outputs": [
        {
          "output_type": "stream",
          "text": [
            "tf.Tensor(6.0, shape=(), dtype=float32)\n",
            "tf.Tensor(16.0, shape=(), dtype=float32)\n"
          ],
          "name": "stdout"
        }
      ]
    },
    {
      "cell_type": "markdown",
      "metadata": {
        "id": "ylrjyUFcgiNi",
        "colab_type": "text"
      },
      "source": [
        "## 求二阶导数"
      ]
    },
    {
      "cell_type": "code",
      "metadata": {
        "id": "YOeegqEzfx_Q",
        "colab_type": "code",
        "colab": {
          "base_uri": "https://localhost:8080/",
          "height": 87
        },
        "outputId": "5960e4c2-6d8c-45a5-de24-1fefb181eb29"
      },
      "source": [
        "x = tf.Variable(3.)\n",
        "y = tf.Variable(4.)\n",
        "\n",
        "with tf.GradientTape(persistent=True) as tape2:\n",
        "  with tf.GradientTape(persistent=True) as tape1:\n",
        "    f = tf.square(x) + 2*tf.square(y) + 1\n",
        "  \n",
        "  first_grads = tape1.gradient(f,[x,y])\n",
        "second_grads = [tape2.gradient(first_grads,[x,y])]  #注意，这里因为firat_grads是一个列表，所以需要添加中括号\n",
        "print(f)\n",
        "print(first_grads)\n",
        "print(second_grads)\n",
        "\n",
        "del tape1\n",
        "del tape2"
      ],
      "execution_count": 26,
      "outputs": [
        {
          "output_type": "stream",
          "text": [
            "tf.Tensor(42.0, shape=(), dtype=float32)\n",
            "[<tf.Tensor: shape=(), dtype=float32, numpy=6.0>, <tf.Tensor: shape=(), dtype=float32, numpy=16.0>]\n",
            "[[<tf.Tensor: shape=(), dtype=float32, numpy=2.0>, <tf.Tensor: shape=(), dtype=float32, numpy=4.0>]]\n"
          ],
          "name": "stdout"
        }
      ]
    },
    {
      "cell_type": "markdown",
      "metadata": {
        "id": "hd8Ko0EAhhfR",
        "colab_type": "text"
      },
      "source": [
        "## 对向量/矩阵求导"
      ]
    },
    {
      "cell_type": "code",
      "metadata": {
        "id": "mcTVUoyThla4",
        "colab_type": "code",
        "colab": {
          "base_uri": "https://localhost:8080/",
          "height": 67
        },
        "outputId": "c6317734-a488-46f6-941f-f225b3d03659"
      },
      "source": [
        "x = tf.Variable([1.,2.,3.])\n",
        "y = tf.Variable([4.,5.,6.])\n",
        "\n",
        "with tf.GradientTape() as tape:\n",
        "  f = tf.square(x) + 2*tf.square(y) + 1\n",
        "\n",
        "df_dx, df_dy = tape.gradient(f,[x,y])  #也可以赋值给一个变量，返回一个列表\n",
        "print(f)\n",
        "print(df_dx)\n",
        "print(df_dy)"
      ],
      "execution_count": 27,
      "outputs": [
        {
          "output_type": "stream",
          "text": [
            "tf.Tensor([34. 55. 82.], shape=(3,), dtype=float32)\n",
            "tf.Tensor([2. 4. 6.], shape=(3,), dtype=float32)\n",
            "tf.Tensor([16. 20. 24.], shape=(3,), dtype=float32)\n"
          ],
          "name": "stdout"
        }
      ]
    }
  ]
}