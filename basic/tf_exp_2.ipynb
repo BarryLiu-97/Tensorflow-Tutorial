{
  "nbformat": 4,
  "nbformat_minor": 0,
  "metadata": {
    "colab": {
      "name": "tf_exp_2.ipynb",
      "provenance": [],
      "collapsed_sections": [],
      "authorship_tag": "ABX9TyNjXq2+zm80DqqScaDLSsEn",
      "include_colab_link": true
    },
    "kernelspec": {
      "name": "python3",
      "display_name": "Python 3"
    }
  },
  "cells": [
    {
      "cell_type": "markdown",
      "metadata": {
        "id": "view-in-github",
        "colab_type": "text"
      },
      "source": [
        "<a href=\"https://colab.research.google.com/github/BarryLiu-97/Tensorflow-Tutorial/blob/master/basic/tf_exp_2.ipynb\" target=\"_parent\"><img src=\"https://colab.research.google.com/assets/colab-badge.svg\" alt=\"Open In Colab\"/></a>"
      ]
    },
    {
      "cell_type": "markdown",
      "metadata": {
        "id": "mDgs5iP49X4P",
        "colab_type": "text"
      },
      "source": [
        "# 部分采样\n"
      ]
    },
    {
      "cell_type": "code",
      "metadata": {
        "id": "lmz0PHJQ9MBa",
        "colab_type": "code",
        "colab": {}
      },
      "source": [
        "import tensorflow as tf\n",
        "import numpy as np"
      ],
      "execution_count": 0,
      "outputs": []
    },
    {
      "cell_type": "markdown",
      "metadata": {
        "id": "jAG3TZfNINgy",
        "colab_type": "text"
      },
      "source": [
        "## 索引和切片\n",
        "与numpy几乎一样\n",
        "### 索引\n",
        "与numpy方法一致\n",
        "### 切片\n",
        "起始位置：结束位置：步长  \n",
        "__前闭后开__"
      ]
    },
    {
      "cell_type": "code",
      "metadata": {
        "id": "MZtQtHT8In0q",
        "colab_type": "code",
        "colab": {
          "base_uri": "https://localhost:8080/",
          "height": 54
        },
        "outputId": "b426bb23-f5dd-4cfa-f24f-1a293e5acf57"
      },
      "source": [
        "a = tf.range(10)\n",
        "a[::]"
      ],
      "execution_count": 2,
      "outputs": [
        {
          "output_type": "execute_result",
          "data": {
            "text/plain": [
              "<tf.Tensor: shape=(10,), dtype=int32, numpy=array([0, 1, 2, 3, 4, 5, 6, 7, 8, 9], dtype=int32)>"
            ]
          },
          "metadata": {
            "tags": []
          },
          "execution_count": 2
        }
      ]
    },
    {
      "cell_type": "code",
      "metadata": {
        "id": "5pAyfcBhIy57",
        "colab_type": "code",
        "colab": {
          "base_uri": "https://localhost:8080/",
          "height": 34
        },
        "outputId": "87dbc1b4-da58-4e89-bf50-f547ad5e1dcd"
      },
      "source": [
        "a[::2]"
      ],
      "execution_count": 3,
      "outputs": [
        {
          "output_type": "execute_result",
          "data": {
            "text/plain": [
              "<tf.Tensor: shape=(5,), dtype=int32, numpy=array([0, 2, 4, 6, 8], dtype=int32)>"
            ]
          },
          "metadata": {
            "tags": []
          },
          "execution_count": 3
        }
      ]
    },
    {
      "cell_type": "code",
      "metadata": {
        "id": "KbGC3UL9JQKd",
        "colab_type": "code",
        "colab": {
          "base_uri": "https://localhost:8080/",
          "height": 34
        },
        "outputId": "37cc941c-9898-4871-9403-e43e0a47bcce"
      },
      "source": [
        "a[1::2]"
      ],
      "execution_count": 11,
      "outputs": [
        {
          "output_type": "execute_result",
          "data": {
            "text/plain": [
              "<tf.Tensor: shape=(5,), dtype=int32, numpy=array([1, 3, 5, 7, 9], dtype=int32)>"
            ]
          },
          "metadata": {
            "tags": []
          },
          "execution_count": 11
        }
      ]
    },
    {
      "cell_type": "code",
      "metadata": {
        "id": "RF1Y94piJgar",
        "colab_type": "code",
        "colab": {
          "base_uri": "https://localhost:8080/",
          "height": 34
        },
        "outputId": "5ed0f7b7-1400-4dbe-a150-218be7568685"
      },
      "source": [
        "a[::-2]  #步长为负数，表示倒序"
      ],
      "execution_count": 7,
      "outputs": [
        {
          "output_type": "execute_result",
          "data": {
            "text/plain": [
              "<tf.Tensor: shape=(5,), dtype=int32, numpy=array([9, 7, 5, 3, 1], dtype=int32)>"
            ]
          },
          "metadata": {
            "tags": []
          },
          "execution_count": 7
        }
      ]
    },
    {
      "cell_type": "markdown",
      "metadata": {
        "id": "AvAcRP-7K_sj",
        "colab_type": "text"
      },
      "source": [
        "### 二维张量切片\n",
        "维度之间用逗号隔开  \n",
        "：：，：：  "
      ]
    },
    {
      "cell_type": "code",
      "metadata": {
        "id": "Gj3uID4hK_b_",
        "colab_type": "code",
        "colab": {}
      },
      "source": [
        "Train_URL = 'http://download.tensorflow.org/data/iris_training.csv'\n",
        "train_path = tf.keras.utils.get_file(Train_URL.split('/')[-1], Train_URL)"
      ],
      "execution_count": 0,
      "outputs": []
    },
    {
      "cell_type": "code",
      "metadata": {
        "id": "RuqX_PYcLnaI",
        "colab_type": "code",
        "colab": {
          "base_uri": "https://localhost:8080/",
          "height": 269
        },
        "outputId": "aa019b8e-7642-4b21-d30e-ec31d674a0a9"
      },
      "source": [
        "import pandas as pd\n",
        "df_iris = pd.read_csv(train_path)\n",
        "np_iris = np.array(df_iris)\n",
        "iris = tf.convert_to_tensor(np_iris)\n",
        "print(iris.shape)\n",
        "print(df_iris)"
      ],
      "execution_count": 26,
      "outputs": [
        {
          "output_type": "stream",
          "text": [
            "(120, 5)\n",
            "     120    4  setosa  versicolor  virginica\n",
            "0    6.4  2.8     5.6         2.2          2\n",
            "1    5.0  2.3     3.3         1.0          1\n",
            "2    4.9  2.5     4.5         1.7          2\n",
            "3    4.9  3.1     1.5         0.1          0\n",
            "4    5.7  3.8     1.7         0.3          0\n",
            "..   ...  ...     ...         ...        ...\n",
            "115  5.5  2.6     4.4         1.2          1\n",
            "116  5.7  3.0     4.2         1.2          1\n",
            "117  4.4  2.9     1.4         0.2          0\n",
            "118  4.8  3.0     1.4         0.1          0\n",
            "119  5.5  2.4     3.7         1.0          1\n",
            "\n",
            "[120 rows x 5 columns]\n"
          ],
          "name": "stdout"
        }
      ]
    },
    {
      "cell_type": "code",
      "metadata": {
        "id": "DBRyuwHrMuvp",
        "colab_type": "code",
        "colab": {
          "base_uri": "https://localhost:8080/",
          "height": 34
        },
        "outputId": "7faa5580-a98f-4987-eb6d-405245bb82fe"
      },
      "source": [
        "iris[0,::]   #第一个列表的所有属性"
      ],
      "execution_count": 27,
      "outputs": [
        {
          "output_type": "execute_result",
          "data": {
            "text/plain": [
              "<tf.Tensor: shape=(5,), dtype=float64, numpy=array([6.4, 2.8, 5.6, 2.2, 2. ])>"
            ]
          },
          "metadata": {
            "tags": []
          },
          "execution_count": 27
        }
      ]
    },
    {
      "cell_type": "code",
      "metadata": {
        "id": "k_6gA0UBM1-h",
        "colab_type": "code",
        "colab": {
          "base_uri": "https://localhost:8080/",
          "height": 118
        },
        "outputId": "117c50d2-1f66-4a67-e88d-1a7d0f69118e"
      },
      "source": [
        "iris[0:5,0:4]"
      ],
      "execution_count": 28,
      "outputs": [
        {
          "output_type": "execute_result",
          "data": {
            "text/plain": [
              "<tf.Tensor: shape=(5, 4), dtype=float64, numpy=\n",
              "array([[6.4, 2.8, 5.6, 2.2],\n",
              "       [5. , 2.3, 3.3, 1. ],\n",
              "       [4.9, 2.5, 4.5, 1.7],\n",
              "       [4.9, 3.1, 1.5, 0.1],\n",
              "       [5.7, 3.8, 1.7, 0.3]])>"
            ]
          },
          "metadata": {
            "tags": []
          },
          "execution_count": 28
        }
      ]
    },
    {
      "cell_type": "code",
      "metadata": {
        "id": "7zh4Q2qxM99U",
        "colab_type": "code",
        "colab": {
          "base_uri": "https://localhost:8080/",
          "height": 202
        },
        "outputId": "9ab68366-3d5f-4f7f-a386-e350f94e4ce3"
      },
      "source": [
        "iris[:,0]  #所有样本的第一个属性  两个::可省略为一个:"
      ],
      "execution_count": 30,
      "outputs": [
        {
          "output_type": "execute_result",
          "data": {
            "text/plain": [
              "<tf.Tensor: shape=(120,), dtype=float64, numpy=\n",
              "array([6.4, 5. , 4.9, 4.9, 5.7, 4.4, 5.4, 6.9, 6.7, 5.1, 5.2, 6.9, 5.8,\n",
              "       5.4, 7.7, 6.3, 6.8, 7.6, 6.4, 5.7, 6.7, 6.4, 5.4, 6.1, 7.2, 5.2,\n",
              "       5.8, 5.9, 5.4, 6.7, 6.3, 5.1, 6.4, 6.8, 6.2, 6.9, 6.5, 5.8, 5.1,\n",
              "       4.8, 7.9, 5.8, 6.7, 5.1, 4.7, 6. , 4.8, 7.7, 4.6, 7.2, 5. , 6.6,\n",
              "       6.1, 5. , 7. , 6. , 7.4, 5.8, 6.2, 5. , 5.6, 6.7, 6.3, 6.4, 6.2,\n",
              "       7.3, 4.4, 7.2, 6.5, 5. , 4.7, 6.6, 5.5, 7.7, 6.1, 4.9, 5.5, 5.7,\n",
              "       6. , 6.4, 5.4, 6.1, 6.5, 5.6, 6.3, 4.9, 6.8, 5.7, 6. , 5. , 6.5,\n",
              "       6.1, 5.1, 4.6, 6.5, 4.6, 4.6, 7.7, 5.9, 5.1, 4.9, 4.9, 4.5, 5.8,\n",
              "       5. , 5.2, 5.3, 5. , 5.6, 4.8, 6.3, 5.7, 5. , 6.3, 5. , 5.5, 5.7,\n",
              "       4.4, 4.8, 5.5])>"
            ]
          },
          "metadata": {
            "tags": []
          },
          "execution_count": 30
        }
      ]
    },
    {
      "cell_type": "markdown",
      "metadata": {
        "id": "lYPOKha-NRPJ",
        "colab_type": "text"
      },
      "source": [
        "### 三维张量切片\n",
        "__手写数字数据集MNIST__ (60000,28,28)  \n",
        "第一个维度表示图片张数，即样本数  \n",
        "后两个维度为图片大小   \n",
        "__单张彩色图片lena__ (512,512,3)  \n",
        "lena(:,:,0)表示R通道图片\n",
        "lena(:,:,1)表示G通道图片\n",
        "### 四维张量切片-多张彩色图片\n",
        "如(4,512,512,3)，表示有四张\n",
        "image[0,:,:,0]第一张图片的R通道\n",
        "image[0:2,:,:,0]第一张图片的R通道"
      ]
    },
    {
      "cell_type": "markdown",
      "metadata": {
        "id": "nF8i9srGOgxx",
        "colab_type": "text"
      },
      "source": [
        "## 数据提取\n",
        "\n",
        "切片都是连续的或者有规律的采样  \n",
        "- __tf.gather()__  \n",
        "用一个索引列表，将给定张量中，对应索引值的元素提取出来  \n",
        "gather(params, indices, axis) \n",
        "params:索引张量  \n",
        "axis:进行采样的轴  \n",
        "indices:索引列表   "
      ]
    },
    {
      "cell_type": "code",
      "metadata": {
        "id": "AM0sLiyZNCgD",
        "colab_type": "code",
        "colab": {
          "base_uri": "https://localhost:8080/",
          "height": 34
        },
        "outputId": "111b6b61-88d9-402a-f6cc-a8f1ba05f8e5"
      },
      "source": [
        "a = tf.range(5)\n",
        "tf.gather(a,indices=[0,2,3])"
      ],
      "execution_count": 32,
      "outputs": [
        {
          "output_type": "execute_result",
          "data": {
            "text/plain": [
              "<tf.Tensor: shape=(3,), dtype=int32, numpy=array([0, 2, 3], dtype=int32)>"
            ]
          },
          "metadata": {
            "tags": []
          },
          "execution_count": 32
        }
      ]
    },
    {
      "cell_type": "code",
      "metadata": {
        "id": "lDG_n0T0PiWd",
        "colab_type": "code",
        "colab": {
          "base_uri": "https://localhost:8080/",
          "height": 101
        },
        "outputId": "abfbdfd8-bfea-45f4-b9ec-14217beec22a"
      },
      "source": [
        "a = tf.range(20)\n",
        "b = tf.reshape(a, (4,5))\n",
        "b"
      ],
      "execution_count": 35,
      "outputs": [
        {
          "output_type": "execute_result",
          "data": {
            "text/plain": [
              "<tf.Tensor: shape=(4, 5), dtype=int32, numpy=\n",
              "array([[ 0,  1,  2,  3,  4],\n",
              "       [ 5,  6,  7,  8,  9],\n",
              "       [10, 11, 12, 13, 14],\n",
              "       [15, 16, 17, 18, 19]], dtype=int32)>"
            ]
          },
          "metadata": {
            "tags": []
          },
          "execution_count": 35
        }
      ]
    },
    {
      "cell_type": "code",
      "metadata": {
        "id": "cdMgHsSqPxfE",
        "colab_type": "code",
        "colab": {
          "base_uri": "https://localhost:8080/",
          "height": 84
        },
        "outputId": "dd1523c2-b35c-4b29-e574-4f9528585cda"
      },
      "source": [
        "tf.gather(b,axis=0,indices=[0,2,3])  "
      ],
      "execution_count": 42,
      "outputs": [
        {
          "output_type": "execute_result",
          "data": {
            "text/plain": [
              "<tf.Tensor: shape=(3, 5), dtype=int32, numpy=\n",
              "array([[ 0,  1,  2,  3,  4],\n",
              "       [10, 11, 12, 13, 14],\n",
              "       [15, 16, 17, 18, 19]], dtype=int32)>"
            ]
          },
          "metadata": {
            "tags": []
          },
          "execution_count": 42
        }
      ]
    },
    {
      "cell_type": "code",
      "metadata": {
        "id": "SJ_6S4SFQaP5",
        "colab_type": "code",
        "colab": {
          "base_uri": "https://localhost:8080/",
          "height": 101
        },
        "outputId": "4a923e78-9d74-4346-d48b-111685ca7e42"
      },
      "source": [
        "tf.gather(b, indices=[0,2,3], axis=1)"
      ],
      "execution_count": 49,
      "outputs": [
        {
          "output_type": "execute_result",
          "data": {
            "text/plain": [
              "<tf.Tensor: shape=(4, 3), dtype=int32, numpy=\n",
              "array([[ 0,  2,  3],\n",
              "       [ 5,  7,  8],\n",
              "       [10, 12, 13],\n",
              "       [15, 17, 18]], dtype=int32)>"
            ]
          },
          "metadata": {
            "tags": []
          },
          "execution_count": 49
        }
      ]
    },
    {
      "cell_type": "markdown",
      "metadata": {
        "id": "eJgxU7SfShKr",
        "colab_type": "text"
      },
      "source": [
        "- __tf.gather_nd() 同时采样多个点__  "
      ]
    },
    {
      "cell_type": "code",
      "metadata": {
        "id": "cQWCiFQGS0RE",
        "colab_type": "code",
        "colab": {
          "base_uri": "https://localhost:8080/",
          "height": 101
        },
        "outputId": "6295ff93-dab0-4c7e-b159-cbf2f9f3bb7a"
      },
      "source": [
        "b"
      ],
      "execution_count": 51,
      "outputs": [
        {
          "output_type": "execute_result",
          "data": {
            "text/plain": [
              "<tf.Tensor: shape=(4, 5), dtype=int32, numpy=\n",
              "array([[ 0,  1,  2,  3,  4],\n",
              "       [ 5,  6,  7,  8,  9],\n",
              "       [10, 11, 12, 13, 14],\n",
              "       [15, 16, 17, 18, 19]], dtype=int32)>"
            ]
          },
          "metadata": {
            "tags": []
          },
          "execution_count": 51
        }
      ]
    },
    {
      "cell_type": "code",
      "metadata": {
        "id": "vjHkNRVwSpGg",
        "colab_type": "code",
        "colab": {
          "base_uri": "https://localhost:8080/",
          "height": 34
        },
        "outputId": "a580b312-dce9-491c-d2b9-b3d837ea3adf"
      },
      "source": [
        "tf.gather_nd(b,[[0,0],[1,1],[2,3]])"
      ],
      "execution_count": 50,
      "outputs": [
        {
          "output_type": "execute_result",
          "data": {
            "text/plain": [
              "<tf.Tensor: shape=(3,), dtype=int32, numpy=array([ 0,  6, 13], dtype=int32)>"
            ]
          },
          "metadata": {
            "tags": []
          },
          "execution_count": 50
        }
      ]
    },
    {
      "cell_type": "code",
      "metadata": {
        "id": "SCN0YD39S7Vp",
        "colab_type": "code",
        "colab": {
          "base_uri": "https://localhost:8080/",
          "height": 67
        },
        "outputId": "dc5bd1b0-8ffd-45d4-f06e-fd66042d174b"
      },
      "source": [
        "print(b[0,0],'\\n',b[1,1],'\\n',b[2,3])"
      ],
      "execution_count": 53,
      "outputs": [
        {
          "output_type": "stream",
          "text": [
            "tf.Tensor(0, shape=(), dtype=int32) \n",
            " tf.Tensor(6, shape=(), dtype=int32) \n",
            " tf.Tensor(13, shape=(), dtype=int32)\n"
          ],
          "name": "stdout"
        }
      ]
    },
    {
      "cell_type": "markdown",
      "metadata": {
        "id": "8VYYpPjmTMWz",
        "colab_type": "text"
      },
      "source": [
        "__选择采样维度__  \n",
        "三维张量--彩色图片lena (512,512,3)  \n",
        "tf.gather_nd(lena, [[0,0],[1,1],[2,3]])  \n",
        "表示这几个位置的三个通道(即第三个维度)\n",
        "对于MNIST数据集，因为这是多张图片，(60000,28,28)，tf.gather_nd(mnist,[[0],[1],[2]])表示提取这几张图片"
      ]
    }
  ]
}