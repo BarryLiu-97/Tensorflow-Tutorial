{
  "nbformat": 4,
  "nbformat_minor": 0,
  "metadata": {
    "colab": {
      "name": "tf_exp_1.ipynb",
      "provenance": [],
      "authorship_tag": "ABX9TyNyki4wjq9ZBtVHdJdjY1eX",
      "include_colab_link": true
    },
    "kernelspec": {
      "name": "python3",
      "display_name": "Python 3"
    }
  },
  "cells": [
    {
      "cell_type": "markdown",
      "metadata": {
        "id": "view-in-github",
        "colab_type": "text"
      },
      "source": [
        "<a href=\"https://colab.research.google.com/github/BarryLiu-97/Tensorflow-Tutorial/blob/master/basic/tf_exp_1.ipynb\" target=\"_parent\"><img src=\"https://colab.research.google.com/assets/colab-badge.svg\" alt=\"Open In Colab\"/></a>"
      ]
    },
    {
      "cell_type": "markdown",
      "metadata": {
        "id": "nduo5Yakert6",
        "colab_type": "text"
      },
      "source": [
        "# 维度变换"
      ]
    },
    {
      "cell_type": "code",
      "metadata": {
        "id": "6dgtNaaVgTFW",
        "colab_type": "code",
        "colab": {}
      },
      "source": [
        "import tensorflow as tf\n",
        "import numpy as np"
      ],
      "execution_count": 0,
      "outputs": []
    },
    {
      "cell_type": "markdown",
      "metadata": {
        "id": "jAu2vBhJhZ4s",
        "colab_type": "text"
      },
      "source": [
        "- __tf.reshape()__ 改变张量的形状\n",
        "tf.reshape(tensor, shape)"
      ]
    },
    {
      "cell_type": "code",
      "metadata": {
        "id": "kCJgsOCte_L3",
        "colab_type": "code",
        "colab": {
          "base_uri": "https://localhost:8080/",
          "height": 151
        },
        "outputId": "77bfdc4e-17b0-4175-d097-17c2f4707cb2"
      },
      "source": [
        "a = tf.range(24)\n",
        "b = tf.reshape(a, (2,3,4))\n",
        "b"
      ],
      "execution_count": 3,
      "outputs": [
        {
          "output_type": "execute_result",
          "data": {
            "text/plain": [
              "<tf.Tensor: shape=(2, 3, 4), dtype=int32, numpy=\n",
              "array([[[ 0,  1,  2,  3],\n",
              "        [ 4,  5,  6,  7],\n",
              "        [ 8,  9, 10, 11]],\n",
              "\n",
              "       [[12, 13, 14, 15],\n",
              "        [16, 17, 18, 19],\n",
              "        [20, 21, 22, 23]]], dtype=int32)>"
            ]
          },
          "metadata": {
            "tags": []
          },
          "execution_count": 3
        }
      ]
    },
    {
      "cell_type": "markdown",
      "metadata": {
        "id": "HovOdkn0ff_h",
        "colab_type": "text"
      },
      "source": [
        "先用numpy创建需要的三维数组，再使用tf.constant转换为张量"
      ]
    },
    {
      "cell_type": "code",
      "metadata": {
        "id": "xrpviGi8fQXc",
        "colab_type": "code",
        "colab": {
          "base_uri": "https://localhost:8080/",
          "height": 151
        },
        "outputId": "98bea0a7-2bef-48c4-cdcd-86447bc99aeb"
      },
      "source": [
        "tf.constant(np.arange(24).reshape(2,3,4))"
      ],
      "execution_count": 6,
      "outputs": [
        {
          "output_type": "execute_result",
          "data": {
            "text/plain": [
              "<tf.Tensor: shape=(2, 3, 4), dtype=int64, numpy=\n",
              "array([[[ 0,  1,  2,  3],\n",
              "        [ 4,  5,  6,  7],\n",
              "        [ 8,  9, 10, 11]],\n",
              "\n",
              "       [[12, 13, 14, 15],\n",
              "        [16, 17, 18, 19],\n",
              "        [20, 21, 22, 23]]])>"
            ]
          },
          "metadata": {
            "tags": []
          },
          "execution_count": 6
        }
      ]
    },
    {
      "cell_type": "markdown",
      "metadata": {
        "id": "rQtRHRKDftbD",
        "colab_type": "text"
      },
      "source": [
        "shape中有-1表示该维度长度未知，需要经过元素总个数与其他维度的参数自动推导出来"
      ]
    },
    {
      "cell_type": "code",
      "metadata": {
        "id": "4v_iJyYmf_Ab",
        "colab_type": "code",
        "colab": {
          "base_uri": "https://localhost:8080/",
          "height": 101
        },
        "outputId": "f96dcb64-5b6e-4b43-99cc-1ce5a92696cf"
      },
      "source": [
        "tf.reshape(b,(4,-1))"
      ],
      "execution_count": 7,
      "outputs": [
        {
          "output_type": "execute_result",
          "data": {
            "text/plain": [
              "<tf.Tensor: shape=(4, 6), dtype=int32, numpy=\n",
              "array([[ 0,  1,  2,  3,  4,  5],\n",
              "       [ 6,  7,  8,  9, 10, 11],\n",
              "       [12, 13, 14, 15, 16, 17],\n",
              "       [18, 19, 20, 21, 22, 23]], dtype=int32)>"
            ]
          },
          "metadata": {
            "tags": []
          },
          "execution_count": 7
        }
      ]
    },
    {
      "cell_type": "markdown",
      "metadata": {
        "id": "yeKM7OvNgNXI",
        "colab_type": "text"
      },
      "source": [
        "这些方式仅仅改变了张量的视图，在内存中的存储仍然是以连续的一维数组的方式进行存储。"
      ]
    },
    {
      "cell_type": "markdown",
      "metadata": {
        "id": "b8MSOrxugcuH",
        "colab_type": "text"
      },
      "source": [
        "## 多维张量的轴\n",
        "多维张量的轴：多维张量的每一个维度叫做一个轴  \n",
        "\n",
        "|shape|(4,)|(3,4)|(2,3,4)|\n",
        "|---|---|---|---|\n",
        "|axis|0|0,1|0,1,2或者-3，-2，-1|\n",
        "\n"
      ]
    },
    {
      "cell_type": "markdown",
      "metadata": {
        "id": "J4YPuskfhtS6",
        "colab_type": "text"
      },
      "source": [
        "## 增加和删除维度\n",
        "增加和删除维度只是改变了张量的视图，在内存中的存储仍然是以连续的一维数组的方式进行存储。\n",
        "- __tf.expand_dims(input, axis) 增加维度__  \n",
        "input:输入的张量\n",
        "axis:指明要在哪个轴上增加维度，该增加的维度长度为1，即只有一个元素"
      ]
    },
    {
      "cell_type": "code",
      "metadata": {
        "id": "_2M19u2dgbUC",
        "colab_type": "code",
        "colab": {
          "base_uri": "https://localhost:8080/",
          "height": 34
        },
        "outputId": "387c3e94-d36c-4220-e717-83f28c171db1"
      },
      "source": [
        "t = tf.constant([1,2])  #一维\n",
        "t"
      ],
      "execution_count": 15,
      "outputs": [
        {
          "output_type": "execute_result",
          "data": {
            "text/plain": [
              "<tf.Tensor: shape=(2,), dtype=int32, numpy=array([1, 2], dtype=int32)>"
            ]
          },
          "metadata": {
            "tags": []
          },
          "execution_count": 15
        }
      ]
    },
    {
      "cell_type": "code",
      "metadata": {
        "id": "FZtrkj3Pijh5",
        "colab_type": "code",
        "colab": {
          "base_uri": "https://localhost:8080/",
          "height": 34
        },
        "outputId": "30424ba0-b32f-4741-add7-e4f2e6174541"
      },
      "source": [
        "t1= tf.expand_dims(t, 1)\n",
        "t1.shape"
      ],
      "execution_count": 12,
      "outputs": [
        {
          "output_type": "execute_result",
          "data": {
            "text/plain": [
              "TensorShape([2, 1])"
            ]
          },
          "metadata": {
            "tags": []
          },
          "execution_count": 12
        }
      ]
    },
    {
      "cell_type": "code",
      "metadata": {
        "id": "kY1Ko0mUiq7n",
        "colab_type": "code",
        "colab": {
          "base_uri": "https://localhost:8080/",
          "height": 67
        },
        "outputId": "012392b7-df3a-4ca8-98c7-7e8918754a92"
      },
      "source": [
        "t1"
      ],
      "execution_count": 10,
      "outputs": [
        {
          "output_type": "execute_result",
          "data": {
            "text/plain": [
              "<tf.Tensor: shape=(2, 1), dtype=int32, numpy=\n",
              "array([[1],\n",
              "       [2]], dtype=int32)>"
            ]
          },
          "metadata": {
            "tags": []
          },
          "execution_count": 10
        }
      ]
    },
    {
      "cell_type": "code",
      "metadata": {
        "id": "at_PKQBAi8EV",
        "colab_type": "code",
        "colab": {
          "base_uri": "https://localhost:8080/",
          "height": 34
        },
        "outputId": "bd621df5-720c-47fc-b25e-2025c522915b"
      },
      "source": [
        "t2 = tf.expand_dims(t, 0)\n",
        "t2.shape"
      ],
      "execution_count": 14,
      "outputs": [
        {
          "output_type": "execute_result",
          "data": {
            "text/plain": [
              "TensorShape([1, 2])"
            ]
          },
          "metadata": {
            "tags": []
          },
          "execution_count": 14
        }
      ]
    },
    {
      "cell_type": "code",
      "metadata": {
        "id": "ZJloNuFTjKXU",
        "colab_type": "code",
        "colab": {
          "base_uri": "https://localhost:8080/",
          "height": 34
        },
        "outputId": "4abf6f65-9ada-425f-dbfd-b5d95b7a5b37"
      },
      "source": [
        "t2"
      ],
      "execution_count": 16,
      "outputs": [
        {
          "output_type": "execute_result",
          "data": {
            "text/plain": [
              "<tf.Tensor: shape=(1, 2), dtype=int32, numpy=array([[1, 2]], dtype=int32)>"
            ]
          },
          "metadata": {
            "tags": []
          },
          "execution_count": 16
        }
      ]
    },
    {
      "cell_type": "markdown",
      "metadata": {
        "id": "mSJNPqCnjSDM",
        "colab_type": "text"
      },
      "source": [
        "t2看似与t一样实则不同，t2是一个二维张量"
      ]
    },
    {
      "cell_type": "code",
      "metadata": {
        "id": "-ingnw7ajbm5",
        "colab_type": "code",
        "colab": {
          "base_uri": "https://localhost:8080/",
          "height": 67
        },
        "outputId": "b8f68197-9d40-451a-a0e0-cb5de1d1288b"
      },
      "source": [
        "t3 = tf.expand_dims(t, -1)\n",
        "t3"
      ],
      "execution_count": 17,
      "outputs": [
        {
          "output_type": "execute_result",
          "data": {
            "text/plain": [
              "<tf.Tensor: shape=(2, 1), dtype=int32, numpy=\n",
              "array([[1],\n",
              "       [2]], dtype=int32)>"
            ]
          },
          "metadata": {
            "tags": []
          },
          "execution_count": 17
        }
      ]
    },
    {
      "cell_type": "code",
      "metadata": {
        "id": "ZnXhXg93jmUI",
        "colab_type": "code",
        "colab": {
          "base_uri": "https://localhost:8080/",
          "height": 34
        },
        "outputId": "e3a52d96-d3a7-4f1e-ac7c-27cede3b8a69"
      },
      "source": [
        "a = tf.range(24)\n",
        "b = tf.reshape(a, (2,3,4))\n",
        "b.shape"
      ],
      "execution_count": 18,
      "outputs": [
        {
          "output_type": "execute_result",
          "data": {
            "text/plain": [
              "TensorShape([2, 3, 4])"
            ]
          },
          "metadata": {
            "tags": []
          },
          "execution_count": 18
        }
      ]
    },
    {
      "cell_type": "code",
      "metadata": {
        "id": "PsZgJt1Lj7LQ",
        "colab_type": "code",
        "colab": {
          "base_uri": "https://localhost:8080/",
          "height": 84
        },
        "outputId": "c4f7c110-9457-4cf2-91e5-b9d3c141a3c2"
      },
      "source": [
        "b1 = tf.expand_dims(b, 0)  #在第一维增加一个维度\n",
        "b2 = tf.expand_dims(b, 1)\n",
        "b3 = tf.expand_dims(b, 2)\n",
        "b4 = tf.expand_dims(b, 3)\n",
        "print(b1.shape)\n",
        "print(b2.shape)\n",
        "print(b3.shape)\n",
        "print(b4.shape)"
      ],
      "execution_count": 22,
      "outputs": [
        {
          "output_type": "stream",
          "text": [
            "(1, 2, 3, 4)\n",
            "(2, 1, 3, 4)\n",
            "(2, 3, 1, 4)\n",
            "(2, 3, 4, 1)\n"
          ],
          "name": "stdout"
        }
      ]
    },
    {
      "cell_type": "markdown",
      "metadata": {
        "id": "5Z554AQVkYy_",
        "colab_type": "text"
      },
      "source": [
        "- __tf.squeeze() 删除维度__  \n",
        "tf.squeeze(input, axis)  \n",
        "只能删除长度为1的维度\n",
        "axis默认为删除所有长度为1的轴"
      ]
    },
    {
      "cell_type": "markdown",
      "metadata": {
        "id": "_TGu6pcnlr57",
        "colab_type": "text"
      },
      "source": [
        "- __tf.transpose() 交换维度__  \n",
        "tf.transpose(a, perm)  \n",
        "对于二维张量来说就是转置\n",
        "perm表示张量中各个轴的顺序"
      ]
    },
    {
      "cell_type": "code",
      "metadata": {
        "id": "IjgtLCSvl-5U",
        "colab_type": "code",
        "colab": {
          "base_uri": "https://localhost:8080/",
          "height": 67
        },
        "outputId": "1306495e-8228-4f53-bb7e-b2a16289dfa4"
      },
      "source": [
        "x = tf.constant([[1,2,3],[4,5,6]])\n",
        "x"
      ],
      "execution_count": 25,
      "outputs": [
        {
          "output_type": "execute_result",
          "data": {
            "text/plain": [
              "<tf.Tensor: shape=(2, 3), dtype=int32, numpy=\n",
              "array([[1, 2, 3],\n",
              "       [4, 5, 6]], dtype=int32)>"
            ]
          },
          "metadata": {
            "tags": []
          },
          "execution_count": 25
        }
      ]
    },
    {
      "cell_type": "code",
      "metadata": {
        "id": "AZtMTNDSmI-S",
        "colab_type": "code",
        "colab": {
          "base_uri": "https://localhost:8080/",
          "height": 84
        },
        "outputId": "11f730f0-880c-4248-f69e-1f870b0f0e44"
      },
      "source": [
        "tf.transpose(x)"
      ],
      "execution_count": 27,
      "outputs": [
        {
          "output_type": "execute_result",
          "data": {
            "text/plain": [
              "<tf.Tensor: shape=(3, 2), dtype=int32, numpy=\n",
              "array([[1, 4],\n",
              "       [2, 5],\n",
              "       [3, 6]], dtype=int32)>"
            ]
          },
          "metadata": {
            "tags": []
          },
          "execution_count": 27
        }
      ]
    },
    {
      "cell_type": "code",
      "metadata": {
        "id": "fhunoBmNmfUv",
        "colab_type": "code",
        "colab": {
          "base_uri": "https://localhost:8080/",
          "height": 84
        },
        "outputId": "c12ef8c9-47ad-431c-b5e3-a500a6b4c6ce"
      },
      "source": [
        "tf.transpose(x, perm=[1,0])  #shape变为了(3，2),即进行了转置"
      ],
      "execution_count": 28,
      "outputs": [
        {
          "output_type": "execute_result",
          "data": {
            "text/plain": [
              "<tf.Tensor: shape=(3, 2), dtype=int32, numpy=\n",
              "array([[1, 4],\n",
              "       [2, 5],\n",
              "       [3, 6]], dtype=int32)>"
            ]
          },
          "metadata": {
            "tags": []
          },
          "execution_count": 28
        }
      ]
    },
    {
      "cell_type": "code",
      "metadata": {
        "id": "oZsCyEqkmvSy",
        "colab_type": "code",
        "colab": {
          "base_uri": "https://localhost:8080/",
          "height": 34
        },
        "outputId": "4cd7226a-3d45-4b3f-cbfa-f73e72e30b36"
      },
      "source": [
        "a = tf.range(24)\n",
        "b = tf.reshape(a, (2,3,4))\n",
        "b.shape"
      ],
      "execution_count": 41,
      "outputs": [
        {
          "output_type": "execute_result",
          "data": {
            "text/plain": [
              "TensorShape([2, 3, 4])"
            ]
          },
          "metadata": {
            "tags": []
          },
          "execution_count": 41
        }
      ]
    },
    {
      "cell_type": "code",
      "metadata": {
        "id": "8BgTLar2oPTa",
        "colab_type": "code",
        "colab": {
          "base_uri": "https://localhost:8080/",
          "height": 151
        },
        "outputId": "6eb295cf-5cc3-4b07-ab72-77ad1bc89729"
      },
      "source": [
        "b"
      ],
      "execution_count": 42,
      "outputs": [
        {
          "output_type": "execute_result",
          "data": {
            "text/plain": [
              "<tf.Tensor: shape=(2, 3, 4), dtype=int32, numpy=\n",
              "array([[[ 0,  1,  2,  3],\n",
              "        [ 4,  5,  6,  7],\n",
              "        [ 8,  9, 10, 11]],\n",
              "\n",
              "       [[12, 13, 14, 15],\n",
              "        [16, 17, 18, 19],\n",
              "        [20, 21, 22, 23]]], dtype=int32)>"
            ]
          },
          "metadata": {
            "tags": []
          },
          "execution_count": 42
        }
      ]
    },
    {
      "cell_type": "code",
      "metadata": {
        "id": "N3HW8CUYnH4u",
        "colab_type": "code",
        "colab": {
          "base_uri": "https://localhost:8080/",
          "height": 168
        },
        "outputId": "6624966f-a256-4fdb-bbbd-48ab154b48ef"
      },
      "source": [
        "tf.transpose(b, (1,0,2))"
      ],
      "execution_count": 30,
      "outputs": [
        {
          "output_type": "execute_result",
          "data": {
            "text/plain": [
              "<tf.Tensor: shape=(3, 2, 4), dtype=int32, numpy=\n",
              "array([[[ 0,  1,  2,  3],\n",
              "        [12, 13, 14, 15]],\n",
              "\n",
              "       [[ 4,  5,  6,  7],\n",
              "        [16, 17, 18, 19]],\n",
              "\n",
              "       [[ 8,  9, 10, 11],\n",
              "        [20, 21, 22, 23]]], dtype=int32)>"
            ]
          },
          "metadata": {
            "tags": []
          },
          "execution_count": 30
        }
      ]
    },
    {
      "cell_type": "markdown",
      "metadata": {
        "id": "IKyn3CMprDte",
        "colab_type": "text"
      },
      "source": [
        "图像中多用四阶张量，含义分别为批量示例、图像高度（行数）、图像宽度（列数）、图像通道数"
      ]
    },
    {
      "cell_type": "markdown",
      "metadata": {
        "id": "PVt7T2bkrcUv",
        "colab_type": "text"
      },
      "source": [
        "## 拼接与分割张量\n",
        "拼接与分割张量也仅是改变视图，不会影响存储方式  \n",
        "- __tf.concat() 拼接张量__  \n",
        "tf.concat(tensors, axis)   \n",
        "tesnors是一个列表，包含所有要拼接的张量  \n",
        "axis表示在哪个维度进行拼接"
      ]
    },
    {
      "cell_type": "code",
      "metadata": {
        "id": "R9d8nnw4rYCz",
        "colab_type": "code",
        "colab": {}
      },
      "source": [
        "t1 = [[1,2,3],[1,2,3]]\n",
        "t2 = [[2,3,4],[2,3,4]]"
      ],
      "execution_count": 0,
      "outputs": []
    },
    {
      "cell_type": "code",
      "metadata": {
        "id": "5BpxtZK1sGna",
        "colab_type": "code",
        "colab": {
          "base_uri": "https://localhost:8080/",
          "height": 101
        },
        "outputId": "8420bce8-80bf-4317-c5ec-8b795688764b"
      },
      "source": [
        "tf.concat([t1,t2],0)"
      ],
      "execution_count": 44,
      "outputs": [
        {
          "output_type": "execute_result",
          "data": {
            "text/plain": [
              "<tf.Tensor: shape=(4, 3), dtype=int32, numpy=\n",
              "array([[1, 2, 3],\n",
              "       [1, 2, 3],\n",
              "       [2, 3, 4],\n",
              "       [2, 3, 4]], dtype=int32)>"
            ]
          },
          "metadata": {
            "tags": []
          },
          "execution_count": 44
        }
      ]
    },
    {
      "cell_type": "code",
      "metadata": {
        "id": "Cgi3dJpFsQAa",
        "colab_type": "code",
        "colab": {
          "base_uri": "https://localhost:8080/",
          "height": 67
        },
        "outputId": "b7c8ebef-2a8f-460c-e5e1-51dd88ef0772"
      },
      "source": [
        "tf.concat([t1,t2],1)"
      ],
      "execution_count": 45,
      "outputs": [
        {
          "output_type": "execute_result",
          "data": {
            "text/plain": [
              "<tf.Tensor: shape=(2, 6), dtype=int32, numpy=\n",
              "array([[1, 2, 3, 2, 3, 4],\n",
              "       [1, 2, 3, 2, 3, 4]], dtype=int32)>"
            ]
          },
          "metadata": {
            "tags": []
          },
          "execution_count": 45
        }
      ]
    },
    {
      "cell_type": "markdown",
      "metadata": {
        "id": "bKtMGOsHsax-",
        "colab_type": "text"
      },
      "source": [
        "从第二个中括号开始为维度0"
      ]
    },
    {
      "cell_type": "markdown",
      "metadata": {
        "id": "lMKPSX3UshYd",
        "colab_type": "text"
      },
      "source": [
        "- __tf.split() 分割张量__  \n",
        "tf.split(value, num_or_size_splits, axis=0)  \n",
        "将一个张量拆分成多个张量，分割后__维度不变__      \n",
        "value:待分割张量  \n",
        "axis:按哪个轴分割，默认为0  \n",
        "num_or_size_splits:分割方案，参数为单个数值时为切割份数；为一个列表时表示是不等长切割，列表中数值表示不同轴的长度\n"
      ]
    },
    {
      "cell_type": "code",
      "metadata": {
        "id": "OlrTuGLSvwWZ",
        "colab_type": "code",
        "colab": {
          "base_uri": "https://localhost:8080/",
          "height": 101
        },
        "outputId": "a23c94d1-8d24-4846-d047-21d4aff7c735"
      },
      "source": [
        "x = tf.range(24)\n",
        "x = tf.reshape(x, (4,6))\n",
        "x"
      ],
      "execution_count": 47,
      "outputs": [
        {
          "output_type": "execute_result",
          "data": {
            "text/plain": [
              "<tf.Tensor: shape=(4, 6), dtype=int32, numpy=\n",
              "array([[ 0,  1,  2,  3,  4,  5],\n",
              "       [ 6,  7,  8,  9, 10, 11],\n",
              "       [12, 13, 14, 15, 16, 17],\n",
              "       [18, 19, 20, 21, 22, 23]], dtype=int32)>"
            ]
          },
          "metadata": {
            "tags": []
          },
          "execution_count": 47
        }
      ]
    },
    {
      "cell_type": "code",
      "metadata": {
        "id": "63JhlPQjv6lW",
        "colab_type": "code",
        "colab": {
          "base_uri": "https://localhost:8080/",
          "height": 118
        },
        "outputId": "930c9ebd-93d9-438e-a021-4b88dedc15f0"
      },
      "source": [
        "tf.split(x,2,0)  #在维度0上分割为两份"
      ],
      "execution_count": 48,
      "outputs": [
        {
          "output_type": "execute_result",
          "data": {
            "text/plain": [
              "[<tf.Tensor: shape=(2, 6), dtype=int32, numpy=\n",
              " array([[ 0,  1,  2,  3,  4,  5],\n",
              "        [ 6,  7,  8,  9, 10, 11]], dtype=int32)>,\n",
              " <tf.Tensor: shape=(2, 6), dtype=int32, numpy=\n",
              " array([[12, 13, 14, 15, 16, 17],\n",
              "        [18, 19, 20, 21, 22, 23]], dtype=int32)>]"
            ]
          },
          "metadata": {
            "tags": []
          },
          "execution_count": 48
        }
      ]
    },
    {
      "cell_type": "code",
      "metadata": {
        "id": "6YxnGIC8wGJk",
        "colab_type": "code",
        "colab": {
          "base_uri": "https://localhost:8080/",
          "height": 121
        },
        "outputId": "b18c1753-56d1-4dbc-d6d5-7d1ba8187263"
      },
      "source": [
        "tf.split(x,[1,2,1],0)"
      ],
      "execution_count": 50,
      "outputs": [
        {
          "output_type": "execute_result",
          "data": {
            "text/plain": [
              "[<tf.Tensor: shape=(1, 6), dtype=int32, numpy=array([[0, 1, 2, 3, 4, 5]], dtype=int32)>,\n",
              " <tf.Tensor: shape=(2, 6), dtype=int32, numpy=\n",
              " array([[ 6,  7,  8,  9, 10, 11],\n",
              "        [12, 13, 14, 15, 16, 17]], dtype=int32)>,\n",
              " <tf.Tensor: shape=(1, 6), dtype=int32, numpy=array([[18, 19, 20, 21, 22, 23]], dtype=int32)>]"
            ]
          },
          "metadata": {
            "tags": []
          },
          "execution_count": 50
        }
      ]
    },
    {
      "cell_type": "code",
      "metadata": {
        "id": "rAd_aixkwUNu",
        "colab_type": "code",
        "colab": {
          "base_uri": "https://localhost:8080/",
          "height": 168
        },
        "outputId": "2e95a018-7e41-49d4-a378-56f466d251b3"
      },
      "source": [
        "tf.split(x,[2,4],1)"
      ],
      "execution_count": 52,
      "outputs": [
        {
          "output_type": "execute_result",
          "data": {
            "text/plain": [
              "[<tf.Tensor: shape=(4, 2), dtype=int32, numpy=\n",
              " array([[ 0,  1],\n",
              "        [ 6,  7],\n",
              "        [12, 13],\n",
              "        [18, 19]], dtype=int32)>, <tf.Tensor: shape=(4, 4), dtype=int32, numpy=\n",
              " array([[ 2,  3,  4,  5],\n",
              "        [ 8,  9, 10, 11],\n",
              "        [14, 15, 16, 17],\n",
              "        [20, 21, 22, 23]], dtype=int32)>]"
            ]
          },
          "metadata": {
            "tags": []
          },
          "execution_count": 52
        }
      ]
    },
    {
      "cell_type": "markdown",
      "metadata": {
        "id": "hZNFr2odwbCe",
        "colab_type": "text"
      },
      "source": [
        "## 堆叠和分解\n",
        "- __tf.stack(values, axis) 张量堆叠__  \n",
        "tf.stack(values, axis)  \n",
        "合并张量时，创建一个新的维度   \n",
        "axis表示在哪个轴进行堆叠"
      ]
    },
    {
      "cell_type": "code",
      "metadata": {
        "id": "fzB_r-yxxZKk",
        "colab_type": "code",
        "colab": {
          "base_uri": "https://localhost:8080/",
          "height": 50
        },
        "outputId": "551be6fe-1b68-485c-97db-f9908eba6b4b"
      },
      "source": [
        "x = tf.constant([1,2,3])\n",
        "y = tf.constant([4,5,6])\n",
        "x,y"
      ],
      "execution_count": 55,
      "outputs": [
        {
          "output_type": "execute_result",
          "data": {
            "text/plain": [
              "(<tf.Tensor: shape=(3,), dtype=int32, numpy=array([1, 2, 3], dtype=int32)>,\n",
              " <tf.Tensor: shape=(3,), dtype=int32, numpy=array([4, 5, 6], dtype=int32)>)"
            ]
          },
          "metadata": {
            "tags": []
          },
          "execution_count": 55
        }
      ]
    },
    {
      "cell_type": "code",
      "metadata": {
        "id": "oyaMWfqXxfoC",
        "colab_type": "code",
        "colab": {
          "base_uri": "https://localhost:8080/",
          "height": 67
        },
        "outputId": "8e8f05c4-405f-4803-930f-b9ce8ed946ac"
      },
      "source": [
        "tf.stack((x,y),axis=0)  "
      ],
      "execution_count": 54,
      "outputs": [
        {
          "output_type": "execute_result",
          "data": {
            "text/plain": [
              "<tf.Tensor: shape=(2, 3), dtype=int32, numpy=\n",
              "array([[1, 2, 3],\n",
              "       [4, 5, 6]], dtype=int32)>"
            ]
          },
          "metadata": {
            "tags": []
          },
          "execution_count": 54
        }
      ]
    },
    {
      "cell_type": "markdown",
      "metadata": {
        "id": "CYcgAzmnyb-n",
        "colab_type": "text"
      },
      "source": [
        "\n",
        "\n",
        "|1|4|\n",
        "|---|---| \n",
        "|2|5|\n",
        "|3|6|  "
      ]
    },
    {
      "cell_type": "code",
      "metadata": {
        "id": "O47UOKoDxudh",
        "colab_type": "code",
        "colab": {
          "base_uri": "https://localhost:8080/",
          "height": 84
        },
        "outputId": "f4a4945e-2266-4dc9-9243-d3e2ebc95248"
      },
      "source": [
        "tf.stack((x,y),axis=1)  "
      ],
      "execution_count": 58,
      "outputs": [
        {
          "output_type": "execute_result",
          "data": {
            "text/plain": [
              "<tf.Tensor: shape=(3, 2), dtype=int32, numpy=\n",
              "array([[1, 4],\n",
              "       [2, 5],\n",
              "       [3, 6]], dtype=int32)>"
            ]
          },
          "metadata": {
            "tags": []
          },
          "execution_count": 58
        }
      ]
    },
    {
      "cell_type": "markdown",
      "metadata": {
        "id": "-_0_gvPAy6QC",
        "colab_type": "text"
      },
      "source": [
        "|1|2|3|\n",
        "|---|---|---|\n",
        "|4|5|6|"
      ]
    },
    {
      "cell_type": "markdown",
      "metadata": {
        "id": "cjBbBclC0TeW",
        "colab_type": "text"
      },
      "source": [
        "__难点！__  \n",
        "tf.stack与tf.concat的关键区别在于concat不会增加维度而stack会  \n",
        "故使用tf.stack时，会将原张量增加一个维度，然后在这个新增加的维度基础上的axis进行拼接。如axis=1时候，x先增加一个维度变为[[1,2,3]],y变为[[4,5,6]],1所在维度为第二维度，即axis=1，与4是同意维度，故1和4拼接，2与5，3与6。张量中逗号在维度分析中有着重要作用。axis=1时，1为轴2即第二个个维度，所以1单独为一个整体，与2，3并列，1在b中对应位置的同维度为4。"
      ]
    },
    {
      "cell_type": "markdown",
      "metadata": {
        "id": "kD388sq02AVn",
        "colab_type": "text"
      },
      "source": [
        "- __tf.unstack() 分解张量__  \n",
        "tf.unstack(values, axis)  \n"
      ]
    },
    {
      "cell_type": "code",
      "metadata": {
        "id": "pvpUNO6R2AjF",
        "colab_type": "code",
        "colab": {
          "base_uri": "https://localhost:8080/",
          "height": 151
        },
        "outputId": "f78d9ec9-8212-41a7-bcda-89fc7372fb7d"
      },
      "source": [
        "c = tf.constant([[[1,2,3],\n",
        "         [4,5,6],\n",
        "         [7,8,9]],\n",
        "         [[11,12,13],\n",
        "          [14,15,16],\n",
        "          [17,18,19]]])\n",
        "c"
      ],
      "execution_count": 66,
      "outputs": [
        {
          "output_type": "execute_result",
          "data": {
            "text/plain": [
              "<tf.Tensor: shape=(2, 3, 3), dtype=int32, numpy=\n",
              "array([[[ 1,  2,  3],\n",
              "        [ 4,  5,  6],\n",
              "        [ 7,  8,  9]],\n",
              "\n",
              "       [[11, 12, 13],\n",
              "        [14, 15, 16],\n",
              "        [17, 18, 19]]], dtype=int32)>"
            ]
          },
          "metadata": {
            "tags": []
          },
          "execution_count": 66
        }
      ]
    },
    {
      "cell_type": "code",
      "metadata": {
        "id": "XnXQsA_-69Pv",
        "colab_type": "code",
        "colab": {
          "base_uri": "https://localhost:8080/",
          "height": 151
        },
        "outputId": "f8e022db-cf12-4ae5-d39c-0d8b0db72471"
      },
      "source": [
        "tf.unstack(c, axis=0)"
      ],
      "execution_count": 68,
      "outputs": [
        {
          "output_type": "execute_result",
          "data": {
            "text/plain": [
              "[<tf.Tensor: shape=(3, 3), dtype=int32, numpy=\n",
              " array([[1, 2, 3],\n",
              "        [4, 5, 6],\n",
              "        [7, 8, 9]], dtype=int32)>,\n",
              " <tf.Tensor: shape=(3, 3), dtype=int32, numpy=\n",
              " array([[11, 12, 13],\n",
              "        [14, 15, 16],\n",
              "        [17, 18, 19]], dtype=int32)>]"
            ]
          },
          "metadata": {
            "tags": []
          },
          "execution_count": 68
        }
      ]
    },
    {
      "cell_type": "code",
      "metadata": {
        "id": "tVhz4gco7UoI",
        "colab_type": "code",
        "colab": {
          "base_uri": "https://localhost:8080/",
          "height": 168
        },
        "outputId": "37d2a682-b9c8-403d-9b8c-06e5b1670b38"
      },
      "source": [
        "tf.unstack(c, axis=1)"
      ],
      "execution_count": 67,
      "outputs": [
        {
          "output_type": "execute_result",
          "data": {
            "text/plain": [
              "[<tf.Tensor: shape=(2, 3), dtype=int32, numpy=\n",
              " array([[ 1,  2,  3],\n",
              "        [11, 12, 13]], dtype=int32)>,\n",
              " <tf.Tensor: shape=(2, 3), dtype=int32, numpy=\n",
              " array([[ 4,  5,  6],\n",
              "        [14, 15, 16]], dtype=int32)>,\n",
              " <tf.Tensor: shape=(2, 3), dtype=int32, numpy=\n",
              " array([[ 7,  8,  9],\n",
              "        [17, 18, 19]], dtype=int32)>]"
            ]
          },
          "metadata": {
            "tags": []
          },
          "execution_count": 67
        }
      ]
    },
    {
      "cell_type": "markdown",
      "metadata": {
        "id": "1s9tlNGb7zm9",
        "colab_type": "text"
      },
      "source": [
        "axis=1,表示第二个维度消失，[1,2,3]在第二个维度，与[11,12,13]相对应，故[1,2,3]与[11,12,13]结合组成一个新向量分离出来。"
      ]
    }
  ]
}