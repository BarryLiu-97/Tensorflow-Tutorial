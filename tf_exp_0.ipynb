{
  "nbformat": 4,
  "nbformat_minor": 0,
  "metadata": {
    "colab": {
      "name": "tf_exp_0.ipynb",
      "provenance": [],
      "authorship_tag": "ABX9TyNuK+Fs7U9WDTQgAEdnwWfu",
      "include_colab_link": true
    },
    "kernelspec": {
      "name": "python3",
      "display_name": "Python 3"
    },
    "accelerator": "GPU"
  },
  "cells": [
    {
      "cell_type": "markdown",
      "metadata": {
        "id": "view-in-github",
        "colab_type": "text"
      },
      "source": [
        "<a href=\"https://colab.research.google.com/github/BarryLiu-97/Tensorflow-Tutorial/blob/master/tf_exp_0.ipynb\" target=\"_parent\"><img src=\"https://colab.research.google.com/assets/colab-badge.svg\" alt=\"Open In Colab\"/></a>"
      ]
    },
    {
      "cell_type": "code",
      "metadata": {
        "id": "GBHaiCaxtYF7",
        "colab_type": "code",
        "outputId": "4a7f68ff-63d2-4d4c-b896-39bfd76be486",
        "colab": {
          "base_uri": "https://localhost:8080/",
          "height": 34
        }
      },
      "source": [
        "%tensorflow_version 2.x\n",
        "import tensorflow as tf\n",
        "device_name = tf.test.gpu_device_name()\n",
        "if device_name != '/device:GPU:0':\n",
        "  raise SystemError('GPU device not found')\n",
        "print('Found GPU at: {}'.format(device_name))"
      ],
      "execution_count": 1,
      "outputs": [
        {
          "output_type": "stream",
          "text": [
            "Found GPU at: /device:GPU:0\n"
          ],
          "name": "stdout"
        }
      ]
    },
    {
      "cell_type": "code",
      "metadata": {
        "id": "DW-qC8LJn0_N",
        "colab_type": "code",
        "colab": {
          "base_uri": "https://localhost:8080/",
          "height": 34
        },
        "outputId": "5a4e46bf-0866-4a1a-a432-e2dfec4ed612"
      },
      "source": [
        "print(\"Eager execution is:\", tf.executing_eagerly())"
      ],
      "execution_count": 4,
      "outputs": [
        {
          "output_type": "stream",
          "text": [
            "Eager execution is: True\n"
          ],
          "name": "stdout"
        }
      ]
    },
    {
      "cell_type": "markdown",
      "metadata": {
        "id": "hPymAsY3pGUP",
        "colab_type": "text"
      },
      "source": [
        "#在Tensorflow2.x中运行Tensorflow1.x"
      ]
    },
    {
      "cell_type": "code",
      "metadata": {
        "id": "NhQXdO2Xo9rD",
        "colab_type": "code",
        "colab": {}
      },
      "source": [
        "import tensorflow.compat.v1 as tf\n",
        "tf.disable_v2_behavior()"
      ],
      "execution_count": 0,
      "outputs": []
    },
    {
      "cell_type": "markdown",
      "metadata": {
        "id": "pxXkxIl7peSN",
        "colab_type": "text"
      },
      "source": [
        "Tesndorflow中的\"Tensor\"表示张量，其实就是多维数组"
      ]
    },
    {
      "cell_type": "markdown",
      "metadata": {
        "id": "m8kwQ49U5BaD",
        "colab_type": "text"
      },
      "source": [
        "# Tensorflow-Tutorial\n",
        "## 创建张量\n",
        "### 创建Tensor对象\n",
        "张量由Tensor类实现，每个张量都是一个Tensor对象\n",
        "\n",
        "- __tf.constant()函数：创建张量__\n",
        " \n",
        "| tf.constant(value, dtype, shape) | \n",
        "| -------------------------------- |\n",
        "\n",
        "    value:数字/Python列表/Numpy数组   \n",
        "    dtype:元素的数据类型  可省略\n",
        "    shape:数据的形状  可省略"
      ]
    },
    {
      "cell_type": "code",
      "metadata": {
        "id": "qJwhLHKc5A6Z",
        "colab_type": "code",
        "colab": {}
      },
      "source": [
        ""
      ],
      "execution_count": 0,
      "outputs": []
    }
  ]
}